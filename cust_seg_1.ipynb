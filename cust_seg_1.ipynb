{
 "cells": [
  {
   "cell_type": "markdown",
   "metadata": {},
   "source": [
    "# Project: Identify Customer Segments\n",
    "\n",
    "In this project, you will apply unsupervised learning techniques to identify segments of the population that form the core customer base for a mail-order sales company in Germany. These segments can then be used to direct marketing campaigns towards audiences that will have the highest expected rate of returns. The data that you will use has been provided by our partners at Bertelsmann Arvato Analytics, and represents a real-life data science task.\n",
    "\n",
    "This notebook will help you complete this task by providing a framework within which you will perform your analysis steps. In each step of the project, you will see some text describing the subtask that you will perform, followed by one or more code cells for you to complete your work. **Feel free to add additional code and markdown cells as you go along so that you can explore everything in precise chunks.** The code cells provided in the base template will outline only the major tasks, and will usually not be enough to cover all of the minor tasks that comprise it.\n",
    "\n",
    "It should be noted that while there will be precise guidelines on how you should handle certain tasks in the project, there will also be places where an exact specification is not provided. **There will be times in the project where you will need to make and justify your own decisions on how to treat the data.** These are places where there may not be only one way to handle the data. In real-life tasks, there may be many valid ways to approach an analysis task. One of the most important things you can do is clearly document your approach so that other scientists can understand the decisions you've made.\n",
    "\n",
    "At the end of most sections, there will be a Markdown cell labeled **Discussion**. In these cells, you will report your findings for the completed section, as well as document the decisions that you made in your approach to each subtask. **Your project will be evaluated not just on the code used to complete the tasks outlined, but also your communication about your observations and conclusions at each stage.**"
   ]
  },
  {
   "cell_type": "code",
   "execution_count": 1,
   "metadata": {},
   "outputs": [
    {
     "data": {
      "text/plain": [
       "'\\nImport note: The classroom currently uses sklearn version 0.19.\\nIf you need to use an imputer, it is available in sklearn.preprocessing.Imputer,\\ninstead of sklearn.impute as in newer versions of sklearn.\\n'"
      ]
     },
     "execution_count": 1,
     "metadata": {},
     "output_type": "execute_result"
    }
   ],
   "source": [
    "# import libraries here; add more as necessary\n",
    "import numpy as np\n",
    "import pandas as pd\n",
    "import matplotlib.pyplot as plt\n",
    "import seaborn as sns\n",
    "from sklearn.preprocessing import Imputer,StandardScaler\n",
    "from sklearn.decomposition import PCA\n",
    "from sklearn.cluster import KMeans\n",
    "\n",
    "# magic word for producing visualizations in notebook\n",
    "%matplotlib inline\n",
    "\n",
    "'''\n",
    "Import note: The classroom currently uses sklearn version 0.19.\n",
    "If you need to use an imputer, it is available in sklearn.preprocessing.Imputer,\n",
    "instead of sklearn.impute as in newer versions of sklearn.\n",
    "'''"
   ]
  },
  {
   "cell_type": "markdown",
   "metadata": {},
   "source": [
    "### Step 0: Load the Data\n",
    "\n",
    "There are four files associated with this project (not including this one):\n",
    "\n",
    "- `Udacity_AZDIAS_Subset.csv`: Demographics data for the general population of Germany; 891211 persons (rows) x 85 features (columns).\n",
    "- `Udacity_CUSTOMERS_Subset.csv`: Demographics data for customers of a mail-order company; 191652 persons (rows) x 85 features (columns).\n",
    "- `Data_Dictionary.md`: Detailed information file about the features in the provided datasets.\n",
    "- `AZDIAS_Feature_Summary.csv`: Summary of feature attributes for demographics data; 85 features (rows) x 4 columns\n",
    "\n",
    "Each row of the demographics files represents a single person, but also includes information outside of individuals, including information about their household, building, and neighborhood. You will use this information to cluster the general population into groups with similar demographic properties. Then, you will see how the people in the customers dataset fit into those created clusters. The hope here is that certain clusters are over-represented in the customers data, as compared to the general population; those over-represented clusters will be assumed to be part of the core userbase. This information can then be used for further applications, such as targeting for a marketing campaign.\n",
    "\n",
    "To start off with, load in the demographics data for the general population into a pandas DataFrame, and do the same for the feature attributes summary. Note for all of the `.csv` data files in this project: they're semicolon (`;`) delimited, so you'll need an additional argument in your [`read_csv()`](https://pandas.pydata.org/pandas-docs/stable/generated/pandas.read_csv.html) call to read in the data properly. Also, considering the size of the main dataset, it may take some time for it to load completely.\n",
    "\n",
    "Once the dataset is loaded, it's recommended that you take a little bit of time just browsing the general structure of the dataset and feature summary file. You'll be getting deep into the innards of the cleaning in the first major step of the project, so gaining some general familiarity can help you get your bearings."
   ]
  },
  {
   "cell_type": "code",
   "execution_count": 2,
   "metadata": {},
   "outputs": [],
   "source": [
    "# Load in the general demographics data into a Pandas DataFrame.\n",
    "azdias =pd.read_csv('Udacity_AZDIAS_Subset.csv',sep=';') \n",
    "\n",
    "# Load in the feature summary file into a Pandas DataFrame.\n",
    "feat_info =pd.read_csv('AZDIAS_Feature_Summary.csv',sep=';') "
   ]
  },
  {
   "cell_type": "code",
   "execution_count": 3,
   "metadata": {},
   "outputs": [
    {
     "name": "stdout",
     "output_type": "stream",
     "text": [
      "Number of rows and columns respectively in Azdias:\n"
     ]
    },
    {
     "data": {
      "text/plain": [
       "(891221, 85)"
      ]
     },
     "execution_count": 3,
     "metadata": {},
     "output_type": "execute_result"
    }
   ],
   "source": [
    "# Check the structure of the data after it's loaded (e.g. print the number of\n",
    "# rows and columns, print the first few rows).\n",
    "print('Number of rows and columns respectively in Azdias:')\n",
    "azdias.shape\n"
   ]
  },
  {
   "cell_type": "code",
   "execution_count": 4,
   "metadata": {},
   "outputs": [
    {
     "name": "stdout",
     "output_type": "stream",
     "text": [
      "Number of rows and columns repectively in Feat_Info:\n"
     ]
    },
    {
     "data": {
      "text/plain": [
       "(85, 4)"
      ]
     },
     "execution_count": 4,
     "metadata": {},
     "output_type": "execute_result"
    }
   ],
   "source": [
    "print('Number of rows and columns repectively in Feat_Info:')\n",
    "feat_info.shape"
   ]
  },
  {
   "cell_type": "code",
   "execution_count": 5,
   "metadata": {},
   "outputs": [
    {
     "name": "stdout",
     "output_type": "stream",
     "text": [
      "Actual columns in Feat_Info\n"
     ]
    },
    {
     "data": {
      "text/plain": [
       "Index(['attribute', 'information_level', 'type', 'missing_or_unknown'], dtype='object')"
      ]
     },
     "execution_count": 5,
     "metadata": {},
     "output_type": "execute_result"
    }
   ],
   "source": [
    "print('Actual columns in Feat_Info')\n",
    "feat_info.columns"
   ]
  },
  {
   "cell_type": "code",
   "execution_count": 6,
   "metadata": {},
   "outputs": [
    {
     "name": "stdout",
     "output_type": "stream",
     "text": [
      "Actual columns in Azdias:\n"
     ]
    },
    {
     "data": {
      "text/plain": [
       "Index(['AGER_TYP', 'ALTERSKATEGORIE_GROB', 'ANREDE_KZ', 'CJT_GESAMTTYP',\n",
       "       'FINANZ_MINIMALIST', 'FINANZ_SPARER', 'FINANZ_VORSORGER',\n",
       "       'FINANZ_ANLEGER', 'FINANZ_UNAUFFAELLIGER', 'FINANZ_HAUSBAUER',\n",
       "       'FINANZTYP', 'GEBURTSJAHR', 'GFK_URLAUBERTYP', 'GREEN_AVANTGARDE',\n",
       "       'HEALTH_TYP', 'LP_LEBENSPHASE_FEIN', 'LP_LEBENSPHASE_GROB',\n",
       "       'LP_FAMILIE_FEIN', 'LP_FAMILIE_GROB', 'LP_STATUS_FEIN',\n",
       "       'LP_STATUS_GROB', 'NATIONALITAET_KZ', 'PRAEGENDE_JUGENDJAHRE',\n",
       "       'RETOURTYP_BK_S', 'SEMIO_SOZ', 'SEMIO_FAM', 'SEMIO_REL', 'SEMIO_MAT',\n",
       "       'SEMIO_VERT', 'SEMIO_LUST', 'SEMIO_ERL', 'SEMIO_KULT', 'SEMIO_RAT',\n",
       "       'SEMIO_KRIT', 'SEMIO_DOM', 'SEMIO_KAEM', 'SEMIO_PFLICHT', 'SEMIO_TRADV',\n",
       "       'SHOPPER_TYP', 'SOHO_KZ', 'TITEL_KZ', 'VERS_TYP', 'ZABEOTYP',\n",
       "       'ALTER_HH', 'ANZ_PERSONEN', 'ANZ_TITEL', 'HH_EINKOMMEN_SCORE',\n",
       "       'KK_KUNDENTYP', 'W_KEIT_KIND_HH', 'WOHNDAUER_2008',\n",
       "       'ANZ_HAUSHALTE_AKTIV', 'ANZ_HH_TITEL', 'GEBAEUDETYP', 'KONSUMNAEHE',\n",
       "       'MIN_GEBAEUDEJAHR', 'OST_WEST_KZ', 'WOHNLAGE', 'CAMEO_DEUG_2015',\n",
       "       'CAMEO_DEU_2015', 'CAMEO_INTL_2015', 'KBA05_ANTG1', 'KBA05_ANTG2',\n",
       "       'KBA05_ANTG3', 'KBA05_ANTG4', 'KBA05_BAUMAX', 'KBA05_GBZ', 'BALLRAUM',\n",
       "       'EWDICHTE', 'INNENSTADT', 'GEBAEUDETYP_RASTER', 'KKK', 'MOBI_REGIO',\n",
       "       'ONLINE_AFFINITAET', 'REGIOTYP', 'KBA13_ANZAHL_PKW', 'PLZ8_ANTG1',\n",
       "       'PLZ8_ANTG2', 'PLZ8_ANTG3', 'PLZ8_ANTG4', 'PLZ8_BAUMAX', 'PLZ8_HHZ',\n",
       "       'PLZ8_GBZ', 'ARBEIT', 'ORTSGR_KLS9', 'RELAT_AB'],\n",
       "      dtype='object')"
      ]
     },
     "execution_count": 6,
     "metadata": {},
     "output_type": "execute_result"
    }
   ],
   "source": [
    "print('Actual columns in Azdias:')\n",
    "azdias.columns"
   ]
  },
  {
   "cell_type": "code",
   "execution_count": 7,
   "metadata": {},
   "outputs": [
    {
     "name": "stdout",
     "output_type": "stream",
     "text": [
      "Actual data presentation in Azdias for the first 5:\n"
     ]
    },
    {
     "data": {
      "text/html": [
       "<div>\n",
       "<style scoped>\n",
       "    .dataframe tbody tr th:only-of-type {\n",
       "        vertical-align: middle;\n",
       "    }\n",
       "\n",
       "    .dataframe tbody tr th {\n",
       "        vertical-align: top;\n",
       "    }\n",
       "\n",
       "    .dataframe thead th {\n",
       "        text-align: right;\n",
       "    }\n",
       "</style>\n",
       "<table border=\"1\" class=\"dataframe\">\n",
       "  <thead>\n",
       "    <tr style=\"text-align: right;\">\n",
       "      <th></th>\n",
       "      <th>AGER_TYP</th>\n",
       "      <th>ALTERSKATEGORIE_GROB</th>\n",
       "      <th>ANREDE_KZ</th>\n",
       "      <th>CJT_GESAMTTYP</th>\n",
       "      <th>FINANZ_MINIMALIST</th>\n",
       "      <th>FINANZ_SPARER</th>\n",
       "      <th>FINANZ_VORSORGER</th>\n",
       "      <th>FINANZ_ANLEGER</th>\n",
       "      <th>FINANZ_UNAUFFAELLIGER</th>\n",
       "      <th>FINANZ_HAUSBAUER</th>\n",
       "      <th>...</th>\n",
       "      <th>PLZ8_ANTG1</th>\n",
       "      <th>PLZ8_ANTG2</th>\n",
       "      <th>PLZ8_ANTG3</th>\n",
       "      <th>PLZ8_ANTG4</th>\n",
       "      <th>PLZ8_BAUMAX</th>\n",
       "      <th>PLZ8_HHZ</th>\n",
       "      <th>PLZ8_GBZ</th>\n",
       "      <th>ARBEIT</th>\n",
       "      <th>ORTSGR_KLS9</th>\n",
       "      <th>RELAT_AB</th>\n",
       "    </tr>\n",
       "  </thead>\n",
       "  <tbody>\n",
       "    <tr>\n",
       "      <th>0</th>\n",
       "      <td>-1</td>\n",
       "      <td>2</td>\n",
       "      <td>1</td>\n",
       "      <td>2.0</td>\n",
       "      <td>3</td>\n",
       "      <td>4</td>\n",
       "      <td>3</td>\n",
       "      <td>5</td>\n",
       "      <td>5</td>\n",
       "      <td>3</td>\n",
       "      <td>...</td>\n",
       "      <td>NaN</td>\n",
       "      <td>NaN</td>\n",
       "      <td>NaN</td>\n",
       "      <td>NaN</td>\n",
       "      <td>NaN</td>\n",
       "      <td>NaN</td>\n",
       "      <td>NaN</td>\n",
       "      <td>NaN</td>\n",
       "      <td>NaN</td>\n",
       "      <td>NaN</td>\n",
       "    </tr>\n",
       "    <tr>\n",
       "      <th>1</th>\n",
       "      <td>-1</td>\n",
       "      <td>1</td>\n",
       "      <td>2</td>\n",
       "      <td>5.0</td>\n",
       "      <td>1</td>\n",
       "      <td>5</td>\n",
       "      <td>2</td>\n",
       "      <td>5</td>\n",
       "      <td>4</td>\n",
       "      <td>5</td>\n",
       "      <td>...</td>\n",
       "      <td>2.0</td>\n",
       "      <td>3.0</td>\n",
       "      <td>2.0</td>\n",
       "      <td>1.0</td>\n",
       "      <td>1.0</td>\n",
       "      <td>5.0</td>\n",
       "      <td>4.0</td>\n",
       "      <td>3.0</td>\n",
       "      <td>5.0</td>\n",
       "      <td>4.0</td>\n",
       "    </tr>\n",
       "    <tr>\n",
       "      <th>2</th>\n",
       "      <td>-1</td>\n",
       "      <td>3</td>\n",
       "      <td>2</td>\n",
       "      <td>3.0</td>\n",
       "      <td>1</td>\n",
       "      <td>4</td>\n",
       "      <td>1</td>\n",
       "      <td>2</td>\n",
       "      <td>3</td>\n",
       "      <td>5</td>\n",
       "      <td>...</td>\n",
       "      <td>3.0</td>\n",
       "      <td>3.0</td>\n",
       "      <td>1.0</td>\n",
       "      <td>0.0</td>\n",
       "      <td>1.0</td>\n",
       "      <td>4.0</td>\n",
       "      <td>4.0</td>\n",
       "      <td>3.0</td>\n",
       "      <td>5.0</td>\n",
       "      <td>2.0</td>\n",
       "    </tr>\n",
       "    <tr>\n",
       "      <th>3</th>\n",
       "      <td>2</td>\n",
       "      <td>4</td>\n",
       "      <td>2</td>\n",
       "      <td>2.0</td>\n",
       "      <td>4</td>\n",
       "      <td>2</td>\n",
       "      <td>5</td>\n",
       "      <td>2</td>\n",
       "      <td>1</td>\n",
       "      <td>2</td>\n",
       "      <td>...</td>\n",
       "      <td>2.0</td>\n",
       "      <td>2.0</td>\n",
       "      <td>2.0</td>\n",
       "      <td>0.0</td>\n",
       "      <td>1.0</td>\n",
       "      <td>3.0</td>\n",
       "      <td>4.0</td>\n",
       "      <td>2.0</td>\n",
       "      <td>3.0</td>\n",
       "      <td>3.0</td>\n",
       "    </tr>\n",
       "    <tr>\n",
       "      <th>4</th>\n",
       "      <td>-1</td>\n",
       "      <td>3</td>\n",
       "      <td>1</td>\n",
       "      <td>5.0</td>\n",
       "      <td>4</td>\n",
       "      <td>3</td>\n",
       "      <td>4</td>\n",
       "      <td>1</td>\n",
       "      <td>3</td>\n",
       "      <td>2</td>\n",
       "      <td>...</td>\n",
       "      <td>2.0</td>\n",
       "      <td>4.0</td>\n",
       "      <td>2.0</td>\n",
       "      <td>1.0</td>\n",
       "      <td>2.0</td>\n",
       "      <td>3.0</td>\n",
       "      <td>3.0</td>\n",
       "      <td>4.0</td>\n",
       "      <td>6.0</td>\n",
       "      <td>5.0</td>\n",
       "    </tr>\n",
       "  </tbody>\n",
       "</table>\n",
       "<p>5 rows × 85 columns</p>\n",
       "</div>"
      ],
      "text/plain": [
       "   AGER_TYP  ALTERSKATEGORIE_GROB  ANREDE_KZ  CJT_GESAMTTYP  \\\n",
       "0        -1                     2          1            2.0   \n",
       "1        -1                     1          2            5.0   \n",
       "2        -1                     3          2            3.0   \n",
       "3         2                     4          2            2.0   \n",
       "4        -1                     3          1            5.0   \n",
       "\n",
       "   FINANZ_MINIMALIST  FINANZ_SPARER  FINANZ_VORSORGER  FINANZ_ANLEGER  \\\n",
       "0                  3              4                 3               5   \n",
       "1                  1              5                 2               5   \n",
       "2                  1              4                 1               2   \n",
       "3                  4              2                 5               2   \n",
       "4                  4              3                 4               1   \n",
       "\n",
       "   FINANZ_UNAUFFAELLIGER  FINANZ_HAUSBAUER    ...     PLZ8_ANTG1  PLZ8_ANTG2  \\\n",
       "0                      5                 3    ...            NaN         NaN   \n",
       "1                      4                 5    ...            2.0         3.0   \n",
       "2                      3                 5    ...            3.0         3.0   \n",
       "3                      1                 2    ...            2.0         2.0   \n",
       "4                      3                 2    ...            2.0         4.0   \n",
       "\n",
       "   PLZ8_ANTG3  PLZ8_ANTG4  PLZ8_BAUMAX  PLZ8_HHZ  PLZ8_GBZ  ARBEIT  \\\n",
       "0         NaN         NaN          NaN       NaN       NaN     NaN   \n",
       "1         2.0         1.0          1.0       5.0       4.0     3.0   \n",
       "2         1.0         0.0          1.0       4.0       4.0     3.0   \n",
       "3         2.0         0.0          1.0       3.0       4.0     2.0   \n",
       "4         2.0         1.0          2.0       3.0       3.0     4.0   \n",
       "\n",
       "   ORTSGR_KLS9  RELAT_AB  \n",
       "0          NaN       NaN  \n",
       "1          5.0       4.0  \n",
       "2          5.0       2.0  \n",
       "3          3.0       3.0  \n",
       "4          6.0       5.0  \n",
       "\n",
       "[5 rows x 85 columns]"
      ]
     },
     "execution_count": 7,
     "metadata": {},
     "output_type": "execute_result"
    }
   ],
   "source": [
    "print('Actual data presentation in Azdias for the first 5:')\n",
    "azdias.head(5)"
   ]
  },
  {
   "cell_type": "code",
   "execution_count": 8,
   "metadata": {},
   "outputs": [
    {
     "name": "stdout",
     "output_type": "stream",
     "text": [
      "Actual data presentation in Azdias for the last 5:\n"
     ]
    },
    {
     "data": {
      "text/html": [
       "<div>\n",
       "<style scoped>\n",
       "    .dataframe tbody tr th:only-of-type {\n",
       "        vertical-align: middle;\n",
       "    }\n",
       "\n",
       "    .dataframe tbody tr th {\n",
       "        vertical-align: top;\n",
       "    }\n",
       "\n",
       "    .dataframe thead th {\n",
       "        text-align: right;\n",
       "    }\n",
       "</style>\n",
       "<table border=\"1\" class=\"dataframe\">\n",
       "  <thead>\n",
       "    <tr style=\"text-align: right;\">\n",
       "      <th></th>\n",
       "      <th>AGER_TYP</th>\n",
       "      <th>ALTERSKATEGORIE_GROB</th>\n",
       "      <th>ANREDE_KZ</th>\n",
       "      <th>CJT_GESAMTTYP</th>\n",
       "      <th>FINANZ_MINIMALIST</th>\n",
       "      <th>FINANZ_SPARER</th>\n",
       "      <th>FINANZ_VORSORGER</th>\n",
       "      <th>FINANZ_ANLEGER</th>\n",
       "      <th>FINANZ_UNAUFFAELLIGER</th>\n",
       "      <th>FINANZ_HAUSBAUER</th>\n",
       "      <th>...</th>\n",
       "      <th>PLZ8_ANTG1</th>\n",
       "      <th>PLZ8_ANTG2</th>\n",
       "      <th>PLZ8_ANTG3</th>\n",
       "      <th>PLZ8_ANTG4</th>\n",
       "      <th>PLZ8_BAUMAX</th>\n",
       "      <th>PLZ8_HHZ</th>\n",
       "      <th>PLZ8_GBZ</th>\n",
       "      <th>ARBEIT</th>\n",
       "      <th>ORTSGR_KLS9</th>\n",
       "      <th>RELAT_AB</th>\n",
       "    </tr>\n",
       "  </thead>\n",
       "  <tbody>\n",
       "    <tr>\n",
       "      <th>891216</th>\n",
       "      <td>-1</td>\n",
       "      <td>3</td>\n",
       "      <td>2</td>\n",
       "      <td>5.0</td>\n",
       "      <td>1</td>\n",
       "      <td>4</td>\n",
       "      <td>2</td>\n",
       "      <td>5</td>\n",
       "      <td>4</td>\n",
       "      <td>4</td>\n",
       "      <td>...</td>\n",
       "      <td>3.0</td>\n",
       "      <td>2.0</td>\n",
       "      <td>0.0</td>\n",
       "      <td>0.0</td>\n",
       "      <td>1.0</td>\n",
       "      <td>2.0</td>\n",
       "      <td>3.0</td>\n",
       "      <td>NaN</td>\n",
       "      <td>NaN</td>\n",
       "      <td>NaN</td>\n",
       "    </tr>\n",
       "    <tr>\n",
       "      <th>891217</th>\n",
       "      <td>-1</td>\n",
       "      <td>2</td>\n",
       "      <td>1</td>\n",
       "      <td>4.0</td>\n",
       "      <td>3</td>\n",
       "      <td>3</td>\n",
       "      <td>3</td>\n",
       "      <td>2</td>\n",
       "      <td>2</td>\n",
       "      <td>3</td>\n",
       "      <td>...</td>\n",
       "      <td>1.0</td>\n",
       "      <td>3.0</td>\n",
       "      <td>3.0</td>\n",
       "      <td>2.0</td>\n",
       "      <td>4.0</td>\n",
       "      <td>5.0</td>\n",
       "      <td>3.0</td>\n",
       "      <td>4.0</td>\n",
       "      <td>6.0</td>\n",
       "      <td>5.0</td>\n",
       "    </tr>\n",
       "    <tr>\n",
       "      <th>891218</th>\n",
       "      <td>-1</td>\n",
       "      <td>2</td>\n",
       "      <td>2</td>\n",
       "      <td>4.0</td>\n",
       "      <td>2</td>\n",
       "      <td>4</td>\n",
       "      <td>2</td>\n",
       "      <td>5</td>\n",
       "      <td>4</td>\n",
       "      <td>3</td>\n",
       "      <td>...</td>\n",
       "      <td>4.0</td>\n",
       "      <td>2.0</td>\n",
       "      <td>0.0</td>\n",
       "      <td>0.0</td>\n",
       "      <td>1.0</td>\n",
       "      <td>3.0</td>\n",
       "      <td>4.0</td>\n",
       "      <td>2.0</td>\n",
       "      <td>2.0</td>\n",
       "      <td>3.0</td>\n",
       "    </tr>\n",
       "    <tr>\n",
       "      <th>891219</th>\n",
       "      <td>-1</td>\n",
       "      <td>1</td>\n",
       "      <td>1</td>\n",
       "      <td>3.0</td>\n",
       "      <td>1</td>\n",
       "      <td>5</td>\n",
       "      <td>3</td>\n",
       "      <td>5</td>\n",
       "      <td>5</td>\n",
       "      <td>5</td>\n",
       "      <td>...</td>\n",
       "      <td>1.0</td>\n",
       "      <td>4.0</td>\n",
       "      <td>3.0</td>\n",
       "      <td>1.0</td>\n",
       "      <td>5.0</td>\n",
       "      <td>1.0</td>\n",
       "      <td>1.0</td>\n",
       "      <td>4.0</td>\n",
       "      <td>7.0</td>\n",
       "      <td>5.0</td>\n",
       "    </tr>\n",
       "    <tr>\n",
       "      <th>891220</th>\n",
       "      <td>-1</td>\n",
       "      <td>4</td>\n",
       "      <td>1</td>\n",
       "      <td>1.0</td>\n",
       "      <td>4</td>\n",
       "      <td>2</td>\n",
       "      <td>5</td>\n",
       "      <td>2</td>\n",
       "      <td>1</td>\n",
       "      <td>5</td>\n",
       "      <td>...</td>\n",
       "      <td>3.0</td>\n",
       "      <td>3.0</td>\n",
       "      <td>1.0</td>\n",
       "      <td>0.0</td>\n",
       "      <td>1.0</td>\n",
       "      <td>4.0</td>\n",
       "      <td>4.0</td>\n",
       "      <td>3.0</td>\n",
       "      <td>4.0</td>\n",
       "      <td>5.0</td>\n",
       "    </tr>\n",
       "  </tbody>\n",
       "</table>\n",
       "<p>5 rows × 85 columns</p>\n",
       "</div>"
      ],
      "text/plain": [
       "        AGER_TYP  ALTERSKATEGORIE_GROB  ANREDE_KZ  CJT_GESAMTTYP  \\\n",
       "891216        -1                     3          2            5.0   \n",
       "891217        -1                     2          1            4.0   \n",
       "891218        -1                     2          2            4.0   \n",
       "891219        -1                     1          1            3.0   \n",
       "891220        -1                     4          1            1.0   \n",
       "\n",
       "        FINANZ_MINIMALIST  FINANZ_SPARER  FINANZ_VORSORGER  FINANZ_ANLEGER  \\\n",
       "891216                  1              4                 2               5   \n",
       "891217                  3              3                 3               2   \n",
       "891218                  2              4                 2               5   \n",
       "891219                  1              5                 3               5   \n",
       "891220                  4              2                 5               2   \n",
       "\n",
       "        FINANZ_UNAUFFAELLIGER  FINANZ_HAUSBAUER    ...     PLZ8_ANTG1  \\\n",
       "891216                      4                 4    ...            3.0   \n",
       "891217                      2                 3    ...            1.0   \n",
       "891218                      4                 3    ...            4.0   \n",
       "891219                      5                 5    ...            1.0   \n",
       "891220                      1                 5    ...            3.0   \n",
       "\n",
       "        PLZ8_ANTG2  PLZ8_ANTG3  PLZ8_ANTG4  PLZ8_BAUMAX  PLZ8_HHZ  PLZ8_GBZ  \\\n",
       "891216         2.0         0.0         0.0          1.0       2.0       3.0   \n",
       "891217         3.0         3.0         2.0          4.0       5.0       3.0   \n",
       "891218         2.0         0.0         0.0          1.0       3.0       4.0   \n",
       "891219         4.0         3.0         1.0          5.0       1.0       1.0   \n",
       "891220         3.0         1.0         0.0          1.0       4.0       4.0   \n",
       "\n",
       "        ARBEIT  ORTSGR_KLS9  RELAT_AB  \n",
       "891216     NaN          NaN       NaN  \n",
       "891217     4.0          6.0       5.0  \n",
       "891218     2.0          2.0       3.0  \n",
       "891219     4.0          7.0       5.0  \n",
       "891220     3.0          4.0       5.0  \n",
       "\n",
       "[5 rows x 85 columns]"
      ]
     },
     "execution_count": 8,
     "metadata": {},
     "output_type": "execute_result"
    }
   ],
   "source": [
    "print('Actual data presentation in Azdias for the last 5:')\n",
    "azdias.tail(5)"
   ]
  },
  {
   "cell_type": "code",
   "execution_count": 9,
   "metadata": {},
   "outputs": [
    {
     "name": "stdout",
     "output_type": "stream",
     "text": [
      "Actual data presentation in Feat_Info for the first 5:\n"
     ]
    },
    {
     "data": {
      "text/html": [
       "<div>\n",
       "<style scoped>\n",
       "    .dataframe tbody tr th:only-of-type {\n",
       "        vertical-align: middle;\n",
       "    }\n",
       "\n",
       "    .dataframe tbody tr th {\n",
       "        vertical-align: top;\n",
       "    }\n",
       "\n",
       "    .dataframe thead th {\n",
       "        text-align: right;\n",
       "    }\n",
       "</style>\n",
       "<table border=\"1\" class=\"dataframe\">\n",
       "  <thead>\n",
       "    <tr style=\"text-align: right;\">\n",
       "      <th></th>\n",
       "      <th>attribute</th>\n",
       "      <th>information_level</th>\n",
       "      <th>type</th>\n",
       "      <th>missing_or_unknown</th>\n",
       "    </tr>\n",
       "  </thead>\n",
       "  <tbody>\n",
       "    <tr>\n",
       "      <th>0</th>\n",
       "      <td>AGER_TYP</td>\n",
       "      <td>person</td>\n",
       "      <td>categorical</td>\n",
       "      <td>[-1,0]</td>\n",
       "    </tr>\n",
       "    <tr>\n",
       "      <th>1</th>\n",
       "      <td>ALTERSKATEGORIE_GROB</td>\n",
       "      <td>person</td>\n",
       "      <td>ordinal</td>\n",
       "      <td>[-1,0,9]</td>\n",
       "    </tr>\n",
       "    <tr>\n",
       "      <th>2</th>\n",
       "      <td>ANREDE_KZ</td>\n",
       "      <td>person</td>\n",
       "      <td>categorical</td>\n",
       "      <td>[-1,0]</td>\n",
       "    </tr>\n",
       "    <tr>\n",
       "      <th>3</th>\n",
       "      <td>CJT_GESAMTTYP</td>\n",
       "      <td>person</td>\n",
       "      <td>categorical</td>\n",
       "      <td>[0]</td>\n",
       "    </tr>\n",
       "    <tr>\n",
       "      <th>4</th>\n",
       "      <td>FINANZ_MINIMALIST</td>\n",
       "      <td>person</td>\n",
       "      <td>ordinal</td>\n",
       "      <td>[-1]</td>\n",
       "    </tr>\n",
       "  </tbody>\n",
       "</table>\n",
       "</div>"
      ],
      "text/plain": [
       "              attribute information_level         type missing_or_unknown\n",
       "0              AGER_TYP            person  categorical             [-1,0]\n",
       "1  ALTERSKATEGORIE_GROB            person      ordinal           [-1,0,9]\n",
       "2             ANREDE_KZ            person  categorical             [-1,0]\n",
       "3         CJT_GESAMTTYP            person  categorical                [0]\n",
       "4     FINANZ_MINIMALIST            person      ordinal               [-1]"
      ]
     },
     "execution_count": 9,
     "metadata": {},
     "output_type": "execute_result"
    }
   ],
   "source": [
    "print('Actual data presentation in Feat_Info for the first 5:')\n",
    "feat_info.head(5)"
   ]
  },
  {
   "cell_type": "code",
   "execution_count": 10,
   "metadata": {},
   "outputs": [
    {
     "name": "stdout",
     "output_type": "stream",
     "text": [
      "Actual data presentation in Feat_Info for the last 5:\n"
     ]
    },
    {
     "data": {
      "text/html": [
       "<div>\n",
       "<style scoped>\n",
       "    .dataframe tbody tr th:only-of-type {\n",
       "        vertical-align: middle;\n",
       "    }\n",
       "\n",
       "    .dataframe tbody tr th {\n",
       "        vertical-align: top;\n",
       "    }\n",
       "\n",
       "    .dataframe thead th {\n",
       "        text-align: right;\n",
       "    }\n",
       "</style>\n",
       "<table border=\"1\" class=\"dataframe\">\n",
       "  <thead>\n",
       "    <tr style=\"text-align: right;\">\n",
       "      <th></th>\n",
       "      <th>attribute</th>\n",
       "      <th>information_level</th>\n",
       "      <th>type</th>\n",
       "      <th>missing_or_unknown</th>\n",
       "    </tr>\n",
       "  </thead>\n",
       "  <tbody>\n",
       "    <tr>\n",
       "      <th>80</th>\n",
       "      <td>PLZ8_HHZ</td>\n",
       "      <td>macrocell_plz8</td>\n",
       "      <td>ordinal</td>\n",
       "      <td>[-1]</td>\n",
       "    </tr>\n",
       "    <tr>\n",
       "      <th>81</th>\n",
       "      <td>PLZ8_GBZ</td>\n",
       "      <td>macrocell_plz8</td>\n",
       "      <td>ordinal</td>\n",
       "      <td>[-1]</td>\n",
       "    </tr>\n",
       "    <tr>\n",
       "      <th>82</th>\n",
       "      <td>ARBEIT</td>\n",
       "      <td>community</td>\n",
       "      <td>ordinal</td>\n",
       "      <td>[-1,9]</td>\n",
       "    </tr>\n",
       "    <tr>\n",
       "      <th>83</th>\n",
       "      <td>ORTSGR_KLS9</td>\n",
       "      <td>community</td>\n",
       "      <td>ordinal</td>\n",
       "      <td>[-1,0]</td>\n",
       "    </tr>\n",
       "    <tr>\n",
       "      <th>84</th>\n",
       "      <td>RELAT_AB</td>\n",
       "      <td>community</td>\n",
       "      <td>ordinal</td>\n",
       "      <td>[-1,9]</td>\n",
       "    </tr>\n",
       "  </tbody>\n",
       "</table>\n",
       "</div>"
      ],
      "text/plain": [
       "      attribute information_level     type missing_or_unknown\n",
       "80     PLZ8_HHZ    macrocell_plz8  ordinal               [-1]\n",
       "81     PLZ8_GBZ    macrocell_plz8  ordinal               [-1]\n",
       "82       ARBEIT         community  ordinal             [-1,9]\n",
       "83  ORTSGR_KLS9         community  ordinal             [-1,0]\n",
       "84     RELAT_AB         community  ordinal             [-1,9]"
      ]
     },
     "execution_count": 10,
     "metadata": {},
     "output_type": "execute_result"
    }
   ],
   "source": [
    "print('Actual data presentation in Feat_Info for the last 5:')\n",
    "feat_info.tail(5)"
   ]
  },
  {
   "cell_type": "code",
   "execution_count": 11,
   "metadata": {},
   "outputs": [
    {
     "name": "stdout",
     "output_type": "stream",
     "text": [
      "Description of the Azdias data:\n"
     ]
    },
    {
     "data": {
      "text/html": [
       "<div>\n",
       "<style scoped>\n",
       "    .dataframe tbody tr th:only-of-type {\n",
       "        vertical-align: middle;\n",
       "    }\n",
       "\n",
       "    .dataframe tbody tr th {\n",
       "        vertical-align: top;\n",
       "    }\n",
       "\n",
       "    .dataframe thead th {\n",
       "        text-align: right;\n",
       "    }\n",
       "</style>\n",
       "<table border=\"1\" class=\"dataframe\">\n",
       "  <thead>\n",
       "    <tr style=\"text-align: right;\">\n",
       "      <th></th>\n",
       "      <th>AGER_TYP</th>\n",
       "      <th>ALTERSKATEGORIE_GROB</th>\n",
       "      <th>ANREDE_KZ</th>\n",
       "      <th>CJT_GESAMTTYP</th>\n",
       "      <th>FINANZ_MINIMALIST</th>\n",
       "      <th>FINANZ_SPARER</th>\n",
       "      <th>FINANZ_VORSORGER</th>\n",
       "      <th>FINANZ_ANLEGER</th>\n",
       "      <th>FINANZ_UNAUFFAELLIGER</th>\n",
       "      <th>FINANZ_HAUSBAUER</th>\n",
       "      <th>...</th>\n",
       "      <th>PLZ8_ANTG1</th>\n",
       "      <th>PLZ8_ANTG2</th>\n",
       "      <th>PLZ8_ANTG3</th>\n",
       "      <th>PLZ8_ANTG4</th>\n",
       "      <th>PLZ8_BAUMAX</th>\n",
       "      <th>PLZ8_HHZ</th>\n",
       "      <th>PLZ8_GBZ</th>\n",
       "      <th>ARBEIT</th>\n",
       "      <th>ORTSGR_KLS9</th>\n",
       "      <th>RELAT_AB</th>\n",
       "    </tr>\n",
       "  </thead>\n",
       "  <tbody>\n",
       "    <tr>\n",
       "      <th>count</th>\n",
       "      <td>891221.000000</td>\n",
       "      <td>891221.000000</td>\n",
       "      <td>891221.000000</td>\n",
       "      <td>886367.000000</td>\n",
       "      <td>891221.000000</td>\n",
       "      <td>891221.000000</td>\n",
       "      <td>891221.000000</td>\n",
       "      <td>891221.000000</td>\n",
       "      <td>891221.000000</td>\n",
       "      <td>891221.000000</td>\n",
       "      <td>...</td>\n",
       "      <td>774706.000000</td>\n",
       "      <td>774706.000000</td>\n",
       "      <td>774706.000000</td>\n",
       "      <td>774706.000000</td>\n",
       "      <td>774706.000000</td>\n",
       "      <td>774706.000000</td>\n",
       "      <td>774706.000000</td>\n",
       "      <td>794005.000000</td>\n",
       "      <td>794005.000000</td>\n",
       "      <td>794005.00000</td>\n",
       "    </tr>\n",
       "    <tr>\n",
       "      <th>mean</th>\n",
       "      <td>-0.358435</td>\n",
       "      <td>2.777398</td>\n",
       "      <td>1.522098</td>\n",
       "      <td>3.632838</td>\n",
       "      <td>3.074528</td>\n",
       "      <td>2.821039</td>\n",
       "      <td>3.401106</td>\n",
       "      <td>3.033328</td>\n",
       "      <td>2.874167</td>\n",
       "      <td>3.075121</td>\n",
       "      <td>...</td>\n",
       "      <td>2.253330</td>\n",
       "      <td>2.801858</td>\n",
       "      <td>1.595426</td>\n",
       "      <td>0.699166</td>\n",
       "      <td>1.943913</td>\n",
       "      <td>3.612821</td>\n",
       "      <td>3.381087</td>\n",
       "      <td>3.167854</td>\n",
       "      <td>5.293002</td>\n",
       "      <td>3.07222</td>\n",
       "    </tr>\n",
       "    <tr>\n",
       "      <th>std</th>\n",
       "      <td>1.198724</td>\n",
       "      <td>1.068775</td>\n",
       "      <td>0.499512</td>\n",
       "      <td>1.595021</td>\n",
       "      <td>1.321055</td>\n",
       "      <td>1.464749</td>\n",
       "      <td>1.322134</td>\n",
       "      <td>1.529603</td>\n",
       "      <td>1.486731</td>\n",
       "      <td>1.353248</td>\n",
       "      <td>...</td>\n",
       "      <td>0.972008</td>\n",
       "      <td>0.920309</td>\n",
       "      <td>0.986736</td>\n",
       "      <td>0.727137</td>\n",
       "      <td>1.459654</td>\n",
       "      <td>0.973967</td>\n",
       "      <td>1.111598</td>\n",
       "      <td>1.002376</td>\n",
       "      <td>2.303739</td>\n",
       "      <td>1.36298</td>\n",
       "    </tr>\n",
       "    <tr>\n",
       "      <th>min</th>\n",
       "      <td>-1.000000</td>\n",
       "      <td>1.000000</td>\n",
       "      <td>1.000000</td>\n",
       "      <td>1.000000</td>\n",
       "      <td>1.000000</td>\n",
       "      <td>1.000000</td>\n",
       "      <td>1.000000</td>\n",
       "      <td>1.000000</td>\n",
       "      <td>1.000000</td>\n",
       "      <td>1.000000</td>\n",
       "      <td>...</td>\n",
       "      <td>0.000000</td>\n",
       "      <td>0.000000</td>\n",
       "      <td>0.000000</td>\n",
       "      <td>0.000000</td>\n",
       "      <td>1.000000</td>\n",
       "      <td>1.000000</td>\n",
       "      <td>1.000000</td>\n",
       "      <td>1.000000</td>\n",
       "      <td>0.000000</td>\n",
       "      <td>1.00000</td>\n",
       "    </tr>\n",
       "    <tr>\n",
       "      <th>25%</th>\n",
       "      <td>-1.000000</td>\n",
       "      <td>2.000000</td>\n",
       "      <td>1.000000</td>\n",
       "      <td>2.000000</td>\n",
       "      <td>2.000000</td>\n",
       "      <td>1.000000</td>\n",
       "      <td>3.000000</td>\n",
       "      <td>2.000000</td>\n",
       "      <td>2.000000</td>\n",
       "      <td>2.000000</td>\n",
       "      <td>...</td>\n",
       "      <td>1.000000</td>\n",
       "      <td>2.000000</td>\n",
       "      <td>1.000000</td>\n",
       "      <td>0.000000</td>\n",
       "      <td>1.000000</td>\n",
       "      <td>3.000000</td>\n",
       "      <td>3.000000</td>\n",
       "      <td>3.000000</td>\n",
       "      <td>4.000000</td>\n",
       "      <td>2.00000</td>\n",
       "    </tr>\n",
       "    <tr>\n",
       "      <th>50%</th>\n",
       "      <td>-1.000000</td>\n",
       "      <td>3.000000</td>\n",
       "      <td>2.000000</td>\n",
       "      <td>4.000000</td>\n",
       "      <td>3.000000</td>\n",
       "      <td>3.000000</td>\n",
       "      <td>3.000000</td>\n",
       "      <td>3.000000</td>\n",
       "      <td>3.000000</td>\n",
       "      <td>3.000000</td>\n",
       "      <td>...</td>\n",
       "      <td>2.000000</td>\n",
       "      <td>3.000000</td>\n",
       "      <td>2.000000</td>\n",
       "      <td>1.000000</td>\n",
       "      <td>1.000000</td>\n",
       "      <td>4.000000</td>\n",
       "      <td>3.000000</td>\n",
       "      <td>3.000000</td>\n",
       "      <td>5.000000</td>\n",
       "      <td>3.00000</td>\n",
       "    </tr>\n",
       "    <tr>\n",
       "      <th>75%</th>\n",
       "      <td>-1.000000</td>\n",
       "      <td>4.000000</td>\n",
       "      <td>2.000000</td>\n",
       "      <td>5.000000</td>\n",
       "      <td>4.000000</td>\n",
       "      <td>4.000000</td>\n",
       "      <td>5.000000</td>\n",
       "      <td>5.000000</td>\n",
       "      <td>4.000000</td>\n",
       "      <td>4.000000</td>\n",
       "      <td>...</td>\n",
       "      <td>3.000000</td>\n",
       "      <td>3.000000</td>\n",
       "      <td>2.000000</td>\n",
       "      <td>1.000000</td>\n",
       "      <td>3.000000</td>\n",
       "      <td>4.000000</td>\n",
       "      <td>4.000000</td>\n",
       "      <td>4.000000</td>\n",
       "      <td>7.000000</td>\n",
       "      <td>4.00000</td>\n",
       "    </tr>\n",
       "    <tr>\n",
       "      <th>max</th>\n",
       "      <td>3.000000</td>\n",
       "      <td>9.000000</td>\n",
       "      <td>2.000000</td>\n",
       "      <td>6.000000</td>\n",
       "      <td>5.000000</td>\n",
       "      <td>5.000000</td>\n",
       "      <td>5.000000</td>\n",
       "      <td>5.000000</td>\n",
       "      <td>5.000000</td>\n",
       "      <td>5.000000</td>\n",
       "      <td>...</td>\n",
       "      <td>4.000000</td>\n",
       "      <td>4.000000</td>\n",
       "      <td>3.000000</td>\n",
       "      <td>2.000000</td>\n",
       "      <td>5.000000</td>\n",
       "      <td>5.000000</td>\n",
       "      <td>5.000000</td>\n",
       "      <td>9.000000</td>\n",
       "      <td>9.000000</td>\n",
       "      <td>9.00000</td>\n",
       "    </tr>\n",
       "  </tbody>\n",
       "</table>\n",
       "<p>8 rows × 81 columns</p>\n",
       "</div>"
      ],
      "text/plain": [
       "            AGER_TYP  ALTERSKATEGORIE_GROB      ANREDE_KZ  CJT_GESAMTTYP  \\\n",
       "count  891221.000000         891221.000000  891221.000000  886367.000000   \n",
       "mean       -0.358435              2.777398       1.522098       3.632838   \n",
       "std         1.198724              1.068775       0.499512       1.595021   \n",
       "min        -1.000000              1.000000       1.000000       1.000000   \n",
       "25%        -1.000000              2.000000       1.000000       2.000000   \n",
       "50%        -1.000000              3.000000       2.000000       4.000000   \n",
       "75%        -1.000000              4.000000       2.000000       5.000000   \n",
       "max         3.000000              9.000000       2.000000       6.000000   \n",
       "\n",
       "       FINANZ_MINIMALIST  FINANZ_SPARER  FINANZ_VORSORGER  FINANZ_ANLEGER  \\\n",
       "count      891221.000000  891221.000000     891221.000000   891221.000000   \n",
       "mean            3.074528       2.821039          3.401106        3.033328   \n",
       "std             1.321055       1.464749          1.322134        1.529603   \n",
       "min             1.000000       1.000000          1.000000        1.000000   \n",
       "25%             2.000000       1.000000          3.000000        2.000000   \n",
       "50%             3.000000       3.000000          3.000000        3.000000   \n",
       "75%             4.000000       4.000000          5.000000        5.000000   \n",
       "max             5.000000       5.000000          5.000000        5.000000   \n",
       "\n",
       "       FINANZ_UNAUFFAELLIGER  FINANZ_HAUSBAUER      ...          PLZ8_ANTG1  \\\n",
       "count          891221.000000     891221.000000      ...       774706.000000   \n",
       "mean                2.874167          3.075121      ...            2.253330   \n",
       "std                 1.486731          1.353248      ...            0.972008   \n",
       "min                 1.000000          1.000000      ...            0.000000   \n",
       "25%                 2.000000          2.000000      ...            1.000000   \n",
       "50%                 3.000000          3.000000      ...            2.000000   \n",
       "75%                 4.000000          4.000000      ...            3.000000   \n",
       "max                 5.000000          5.000000      ...            4.000000   \n",
       "\n",
       "          PLZ8_ANTG2     PLZ8_ANTG3     PLZ8_ANTG4    PLZ8_BAUMAX  \\\n",
       "count  774706.000000  774706.000000  774706.000000  774706.000000   \n",
       "mean        2.801858       1.595426       0.699166       1.943913   \n",
       "std         0.920309       0.986736       0.727137       1.459654   \n",
       "min         0.000000       0.000000       0.000000       1.000000   \n",
       "25%         2.000000       1.000000       0.000000       1.000000   \n",
       "50%         3.000000       2.000000       1.000000       1.000000   \n",
       "75%         3.000000       2.000000       1.000000       3.000000   \n",
       "max         4.000000       3.000000       2.000000       5.000000   \n",
       "\n",
       "            PLZ8_HHZ       PLZ8_GBZ         ARBEIT    ORTSGR_KLS9  \\\n",
       "count  774706.000000  774706.000000  794005.000000  794005.000000   \n",
       "mean        3.612821       3.381087       3.167854       5.293002   \n",
       "std         0.973967       1.111598       1.002376       2.303739   \n",
       "min         1.000000       1.000000       1.000000       0.000000   \n",
       "25%         3.000000       3.000000       3.000000       4.000000   \n",
       "50%         4.000000       3.000000       3.000000       5.000000   \n",
       "75%         4.000000       4.000000       4.000000       7.000000   \n",
       "max         5.000000       5.000000       9.000000       9.000000   \n",
       "\n",
       "           RELAT_AB  \n",
       "count  794005.00000  \n",
       "mean        3.07222  \n",
       "std         1.36298  \n",
       "min         1.00000  \n",
       "25%         2.00000  \n",
       "50%         3.00000  \n",
       "75%         4.00000  \n",
       "max         9.00000  \n",
       "\n",
       "[8 rows x 81 columns]"
      ]
     },
     "execution_count": 11,
     "metadata": {},
     "output_type": "execute_result"
    }
   ],
   "source": [
    "print('Description of the Azdias data:')\n",
    "azdias.describe()"
   ]
  },
  {
   "cell_type": "code",
   "execution_count": 12,
   "metadata": {},
   "outputs": [
    {
     "name": "stdout",
     "output_type": "stream",
     "text": [
      "Description of the Feat_Info data:\n"
     ]
    },
    {
     "data": {
      "text/html": [
       "<div>\n",
       "<style scoped>\n",
       "    .dataframe tbody tr th:only-of-type {\n",
       "        vertical-align: middle;\n",
       "    }\n",
       "\n",
       "    .dataframe tbody tr th {\n",
       "        vertical-align: top;\n",
       "    }\n",
       "\n",
       "    .dataframe thead th {\n",
       "        text-align: right;\n",
       "    }\n",
       "</style>\n",
       "<table border=\"1\" class=\"dataframe\">\n",
       "  <thead>\n",
       "    <tr style=\"text-align: right;\">\n",
       "      <th></th>\n",
       "      <th>attribute</th>\n",
       "      <th>information_level</th>\n",
       "      <th>type</th>\n",
       "      <th>missing_or_unknown</th>\n",
       "    </tr>\n",
       "  </thead>\n",
       "  <tbody>\n",
       "    <tr>\n",
       "      <th>count</th>\n",
       "      <td>85</td>\n",
       "      <td>85</td>\n",
       "      <td>85</td>\n",
       "      <td>85</td>\n",
       "    </tr>\n",
       "    <tr>\n",
       "      <th>unique</th>\n",
       "      <td>85</td>\n",
       "      <td>9</td>\n",
       "      <td>5</td>\n",
       "      <td>9</td>\n",
       "    </tr>\n",
       "    <tr>\n",
       "      <th>top</th>\n",
       "      <td>LP_FAMILIE_FEIN</td>\n",
       "      <td>person</td>\n",
       "      <td>ordinal</td>\n",
       "      <td>[-1]</td>\n",
       "    </tr>\n",
       "    <tr>\n",
       "      <th>freq</th>\n",
       "      <td>1</td>\n",
       "      <td>43</td>\n",
       "      <td>49</td>\n",
       "      <td>26</td>\n",
       "    </tr>\n",
       "  </tbody>\n",
       "</table>\n",
       "</div>"
      ],
      "text/plain": [
       "              attribute information_level     type missing_or_unknown\n",
       "count                85                85       85                 85\n",
       "unique               85                 9        5                  9\n",
       "top     LP_FAMILIE_FEIN            person  ordinal               [-1]\n",
       "freq                  1                43       49                 26"
      ]
     },
     "execution_count": 12,
     "metadata": {},
     "output_type": "execute_result"
    }
   ],
   "source": [
    "print('Description of the Feat_Info data:')\n",
    "feat_info.describe()"
   ]
  },
  {
   "cell_type": "markdown",
   "metadata": {},
   "source": [
    "\n",
    "\n",
    "\n",
    "\n",
    "\n",
    "\n",
    "\n",
    "\n",
    "\n",
    "\n",
    "\n",
    "\n",
    "\n",
    "\n",
    "\n",
    "\n",
    "\n",
    "\n",
    "\n",
    "\n",
    "\n",
    "\n",
    "\n",
    "\n",
    "\n",
    "\n",
    "\n",
    "\n",
    "\n",
    "\n",
    "\n",
    "\n",
    "\n",
    "\n",
    "\n",
    "\n",
    "\n",
    "\n",
    "\n",
    "\n",
    "\n",
    "\n",
    "\n",
    "\n",
    "\n",
    "\n",
    "\n",
    "\n",
    "\n",
    "\n",
    "\n",
    "\n",
    "\n",
    "\n",
    "\n",
    "\n",
    "\n",
    "\n",
    "\n",
    "\n",
    "\n",
    "\n",
    "\n",
    "\n",
    "\n",
    "\n",
    "\n",
    "\n",
    "\n",
    "\n",
    "\n",
    "\n",
    "\n",
    "\n",
    "\n",
    "\n",
    "\n",
    "\n",
    "\n",
    "\n",
    "\n",
    "\n",
    "\n",
    "\n",
    "\n",
    "\n",
    "\n",
    "\n",
    "\n",
    "\n",
    "\n",
    "\n",
    "\n",
    "\n",
    "\n",
    "\n",
    "\n",
    "\n",
    "\n",
    "\n",
    "\n",
    "\n",
    "\n",
    "\n",
    "\n",
    "\n",
    "\n",
    "\n",
    "\n",
    "\n",
    "\n",
    "\n",
    "\n",
    "\n",
    "\n",
    "> **Tip**: Add additional cells to keep everything in reasonably-sized chunks! Keyboard shortcut `esc --> a` (press escape to enter command mode, then press the 'A' key) adds a new cell before the active cell, and `esc --> b` adds a new cell after the active cell. If you need to convert an active cell to a markdown cell, use `esc --> m` and to convert to a code cell, use `esc --> y`. \n",
    "\n",
    "## Step 1: Preprocessing\n",
    "\n",
    "### Step 1.1: Assess Missing Data\n",
    "\n",
    "The feature summary file contains a summary of properties for each demographics data column. You will use this file to help you make cleaning decisions during this stage of the project. First of all, you should assess the demographics data in terms of missing data. Pay attention to the following points as you perform your analysis, and take notes on what you observe. Make sure that you fill in the **Discussion** cell with your findings and decisions at the end of each step that has one!\n",
    "\n",
    "#### Step 1.1.1: Convert Missing Value Codes to NaNs\n",
    "The fourth column of the feature attributes summary (loaded in above as `feat_info`) documents the codes from the data dictionary that indicate missing or unknown data. While the file encodes this as a list (e.g. `[-1,0]`), this will get read in as a string object. You'll need to do a little bit of parsing to make use of it to identify and clean the data. Convert data that matches a 'missing' or 'unknown' value code into a numpy NaN value. You might want to see how much data takes on a 'missing' or 'unknown' code, and how much data is naturally missing, as a point of interest.\n",
    "\n",
    "**As one more reminder, you are encouraged to add additional cells to break up your analysis into manageable chunks.**"
   ]
  },
  {
   "cell_type": "code",
   "execution_count": 13,
   "metadata": {},
   "outputs": [
    {
     "name": "stdout",
     "output_type": "stream",
     "text": [
      "The total number of missing values is:4896838\n",
      "Number of missing values in each column of the demographics data of total population:\n",
      "\n",
      "AGER_TYP:0\n",
      "ALTERSKATEGORIE_GROB:0\n",
      "ANREDE_KZ:0\n",
      "CJT_GESAMTTYP:4854\n",
      "FINANZ_MINIMALIST:0\n",
      "FINANZ_SPARER:0\n",
      "FINANZ_VORSORGER:0\n",
      "FINANZ_ANLEGER:0\n",
      "FINANZ_UNAUFFAELLIGER:0\n",
      "FINANZ_HAUSBAUER:0\n",
      "FINANZTYP:0\n",
      "GEBURTSJAHR:0\n",
      "GFK_URLAUBERTYP:4854\n",
      "GREEN_AVANTGARDE:0\n",
      "HEALTH_TYP:0\n",
      "LP_LEBENSPHASE_FEIN:4854\n",
      "LP_LEBENSPHASE_GROB:4854\n",
      "LP_FAMILIE_FEIN:4854\n",
      "LP_FAMILIE_GROB:4854\n",
      "LP_STATUS_FEIN:4854\n",
      "LP_STATUS_GROB:4854\n",
      "NATIONALITAET_KZ:0\n",
      "PRAEGENDE_JUGENDJAHRE:0\n",
      "RETOURTYP_BK_S:4854\n",
      "SEMIO_SOZ:0\n",
      "SEMIO_FAM:0\n",
      "SEMIO_REL:0\n",
      "SEMIO_MAT:0\n",
      "SEMIO_VERT:0\n",
      "SEMIO_LUST:0\n",
      "SEMIO_ERL:0\n",
      "SEMIO_KULT:0\n",
      "SEMIO_RAT:0\n",
      "SEMIO_KRIT:0\n",
      "SEMIO_DOM:0\n",
      "SEMIO_KAEM:0\n",
      "SEMIO_PFLICHT:0\n",
      "SEMIO_TRADV:0\n",
      "SHOPPER_TYP:0\n",
      "SOHO_KZ:73499\n",
      "TITEL_KZ:73499\n",
      "VERS_TYP:0\n",
      "ZABEOTYP:0\n",
      "ALTER_HH:73499\n",
      "ANZ_PERSONEN:73499\n",
      "ANZ_TITEL:73499\n",
      "HH_EINKOMMEN_SCORE:18348\n",
      "KK_KUNDENTYP:584612\n",
      "W_KEIT_KIND_HH:107602\n",
      "WOHNDAUER_2008:73499\n",
      "ANZ_HAUSHALTE_AKTIV:93148\n",
      "ANZ_HH_TITEL:97008\n",
      "GEBAEUDETYP:93148\n",
      "KONSUMNAEHE:73969\n",
      "MIN_GEBAEUDEJAHR:93148\n",
      "OST_WEST_KZ:93148\n",
      "WOHNLAGE:93148\n",
      "CAMEO_DEUG_2015:98979\n",
      "CAMEO_DEU_2015:98979\n",
      "CAMEO_INTL_2015:98979\n",
      "KBA05_ANTG1:133324\n",
      "KBA05_ANTG2:133324\n",
      "KBA05_ANTG3:133324\n",
      "KBA05_ANTG4:133324\n",
      "KBA05_BAUMAX:133324\n",
      "KBA05_GBZ:133324\n",
      "BALLRAUM:93740\n",
      "EWDICHTE:93740\n",
      "INNENSTADT:93740\n",
      "GEBAEUDETYP_RASTER:93155\n",
      "KKK:121196\n",
      "MOBI_REGIO:133324\n",
      "ONLINE_AFFINITAET:4854\n",
      "REGIOTYP:121196\n",
      "KBA13_ANZAHL_PKW:105800\n",
      "PLZ8_ANTG1:116515\n",
      "PLZ8_ANTG2:116515\n",
      "PLZ8_ANTG3:116515\n",
      "PLZ8_ANTG4:116515\n",
      "PLZ8_BAUMAX:116515\n",
      "PLZ8_HHZ:116515\n",
      "PLZ8_GBZ:116515\n",
      "ARBEIT:97216\n",
      "ORTSGR_KLS9:97216\n",
      "RELAT_AB:97216\n"
     ]
    }
   ],
   "source": [
    "#total number of missing values in the columns\n",
    "\n",
    "total_missing=azdias.isnull().sum().sum()\n",
    "print('The total number of missing values is:{}'.format(total_missing))\n",
    "print(\"Number of missing values in each column of the demographics data of total population:\\n\")\n",
    "for cols in azdias.columns:\n",
    "    no_col=sum(azdias[cols].isna())\n",
    "    print('{}:{}'.format(cols,no_col))"
   ]
  },
  {
   "cell_type": "code",
   "execution_count": 14,
   "metadata": {},
   "outputs": [],
   "source": [
    "#As a result of the data type of missing_or_unknown being a string of list, it is then converted into a list.\n",
    "feat_info['missing_or_unknown']=feat_info['missing_or_unknown'].apply(lambda x:x[1:-1].split(','))"
   ]
  },
  {
   "cell_type": "markdown",
   "metadata": {},
   "source": [
    "**Having converted the string missing_or_unknown column into a list, the missing/unknown values can then be converted into NaNs**"
   ]
  },
  {
   "cell_type": "code",
   "execution_count": 15,
   "metadata": {},
   "outputs": [],
   "source": [
    "# Identify missing or unknown data values and convert them to NaNs.\n",
    "for attr,miss_unkn_value in zip(feat_info['attribute'],feat_info['missing_or_unknown']):\n",
    "    if len(miss_unkn_value) and miss_unkn_value!=['']:\n",
    "        for value in miss_unkn_value:\n",
    "            if value.isnumeric() or value.lstrip('-').isnumeric():\n",
    "                value=int(value)\n",
    "            azdias.loc[azdias[attr]==value,attr]=np.nan\n"
   ]
  },
  {
   "cell_type": "code",
   "execution_count": 16,
   "metadata": {},
   "outputs": [
    {
     "name": "stdout",
     "output_type": "stream",
     "text": [
      "Overview after converting the missing values into NaNs:\n"
     ]
    },
    {
     "data": {
      "text/html": [
       "<div>\n",
       "<style scoped>\n",
       "    .dataframe tbody tr th:only-of-type {\n",
       "        vertical-align: middle;\n",
       "    }\n",
       "\n",
       "    .dataframe tbody tr th {\n",
       "        vertical-align: top;\n",
       "    }\n",
       "\n",
       "    .dataframe thead th {\n",
       "        text-align: right;\n",
       "    }\n",
       "</style>\n",
       "<table border=\"1\" class=\"dataframe\">\n",
       "  <thead>\n",
       "    <tr style=\"text-align: right;\">\n",
       "      <th></th>\n",
       "      <th>AGER_TYP</th>\n",
       "      <th>ALTERSKATEGORIE_GROB</th>\n",
       "      <th>ANREDE_KZ</th>\n",
       "      <th>CJT_GESAMTTYP</th>\n",
       "      <th>FINANZ_MINIMALIST</th>\n",
       "      <th>FINANZ_SPARER</th>\n",
       "      <th>FINANZ_VORSORGER</th>\n",
       "      <th>FINANZ_ANLEGER</th>\n",
       "      <th>FINANZ_UNAUFFAELLIGER</th>\n",
       "      <th>FINANZ_HAUSBAUER</th>\n",
       "      <th>...</th>\n",
       "      <th>PLZ8_ANTG1</th>\n",
       "      <th>PLZ8_ANTG2</th>\n",
       "      <th>PLZ8_ANTG3</th>\n",
       "      <th>PLZ8_ANTG4</th>\n",
       "      <th>PLZ8_BAUMAX</th>\n",
       "      <th>PLZ8_HHZ</th>\n",
       "      <th>PLZ8_GBZ</th>\n",
       "      <th>ARBEIT</th>\n",
       "      <th>ORTSGR_KLS9</th>\n",
       "      <th>RELAT_AB</th>\n",
       "    </tr>\n",
       "  </thead>\n",
       "  <tbody>\n",
       "    <tr>\n",
       "      <th>0</th>\n",
       "      <td>NaN</td>\n",
       "      <td>2.0</td>\n",
       "      <td>1.0</td>\n",
       "      <td>2.0</td>\n",
       "      <td>3.0</td>\n",
       "      <td>4.0</td>\n",
       "      <td>3.0</td>\n",
       "      <td>5.0</td>\n",
       "      <td>5.0</td>\n",
       "      <td>3.0</td>\n",
       "      <td>...</td>\n",
       "      <td>NaN</td>\n",
       "      <td>NaN</td>\n",
       "      <td>NaN</td>\n",
       "      <td>NaN</td>\n",
       "      <td>NaN</td>\n",
       "      <td>NaN</td>\n",
       "      <td>NaN</td>\n",
       "      <td>NaN</td>\n",
       "      <td>NaN</td>\n",
       "      <td>NaN</td>\n",
       "    </tr>\n",
       "    <tr>\n",
       "      <th>1</th>\n",
       "      <td>NaN</td>\n",
       "      <td>1.0</td>\n",
       "      <td>2.0</td>\n",
       "      <td>5.0</td>\n",
       "      <td>1.0</td>\n",
       "      <td>5.0</td>\n",
       "      <td>2.0</td>\n",
       "      <td>5.0</td>\n",
       "      <td>4.0</td>\n",
       "      <td>5.0</td>\n",
       "      <td>...</td>\n",
       "      <td>2.0</td>\n",
       "      <td>3.0</td>\n",
       "      <td>2.0</td>\n",
       "      <td>1.0</td>\n",
       "      <td>1.0</td>\n",
       "      <td>5.0</td>\n",
       "      <td>4.0</td>\n",
       "      <td>3.0</td>\n",
       "      <td>5.0</td>\n",
       "      <td>4.0</td>\n",
       "    </tr>\n",
       "    <tr>\n",
       "      <th>2</th>\n",
       "      <td>NaN</td>\n",
       "      <td>3.0</td>\n",
       "      <td>2.0</td>\n",
       "      <td>3.0</td>\n",
       "      <td>1.0</td>\n",
       "      <td>4.0</td>\n",
       "      <td>1.0</td>\n",
       "      <td>2.0</td>\n",
       "      <td>3.0</td>\n",
       "      <td>5.0</td>\n",
       "      <td>...</td>\n",
       "      <td>3.0</td>\n",
       "      <td>3.0</td>\n",
       "      <td>1.0</td>\n",
       "      <td>0.0</td>\n",
       "      <td>1.0</td>\n",
       "      <td>4.0</td>\n",
       "      <td>4.0</td>\n",
       "      <td>3.0</td>\n",
       "      <td>5.0</td>\n",
       "      <td>2.0</td>\n",
       "    </tr>\n",
       "    <tr>\n",
       "      <th>3</th>\n",
       "      <td>2.0</td>\n",
       "      <td>4.0</td>\n",
       "      <td>2.0</td>\n",
       "      <td>2.0</td>\n",
       "      <td>4.0</td>\n",
       "      <td>2.0</td>\n",
       "      <td>5.0</td>\n",
       "      <td>2.0</td>\n",
       "      <td>1.0</td>\n",
       "      <td>2.0</td>\n",
       "      <td>...</td>\n",
       "      <td>2.0</td>\n",
       "      <td>2.0</td>\n",
       "      <td>2.0</td>\n",
       "      <td>0.0</td>\n",
       "      <td>1.0</td>\n",
       "      <td>3.0</td>\n",
       "      <td>4.0</td>\n",
       "      <td>2.0</td>\n",
       "      <td>3.0</td>\n",
       "      <td>3.0</td>\n",
       "    </tr>\n",
       "    <tr>\n",
       "      <th>4</th>\n",
       "      <td>NaN</td>\n",
       "      <td>3.0</td>\n",
       "      <td>1.0</td>\n",
       "      <td>5.0</td>\n",
       "      <td>4.0</td>\n",
       "      <td>3.0</td>\n",
       "      <td>4.0</td>\n",
       "      <td>1.0</td>\n",
       "      <td>3.0</td>\n",
       "      <td>2.0</td>\n",
       "      <td>...</td>\n",
       "      <td>2.0</td>\n",
       "      <td>4.0</td>\n",
       "      <td>2.0</td>\n",
       "      <td>1.0</td>\n",
       "      <td>2.0</td>\n",
       "      <td>3.0</td>\n",
       "      <td>3.0</td>\n",
       "      <td>4.0</td>\n",
       "      <td>6.0</td>\n",
       "      <td>5.0</td>\n",
       "    </tr>\n",
       "  </tbody>\n",
       "</table>\n",
       "<p>5 rows × 85 columns</p>\n",
       "</div>"
      ],
      "text/plain": [
       "   AGER_TYP  ALTERSKATEGORIE_GROB  ANREDE_KZ  CJT_GESAMTTYP  \\\n",
       "0       NaN                   2.0        1.0            2.0   \n",
       "1       NaN                   1.0        2.0            5.0   \n",
       "2       NaN                   3.0        2.0            3.0   \n",
       "3       2.0                   4.0        2.0            2.0   \n",
       "4       NaN                   3.0        1.0            5.0   \n",
       "\n",
       "   FINANZ_MINIMALIST  FINANZ_SPARER  FINANZ_VORSORGER  FINANZ_ANLEGER  \\\n",
       "0                3.0            4.0               3.0             5.0   \n",
       "1                1.0            5.0               2.0             5.0   \n",
       "2                1.0            4.0               1.0             2.0   \n",
       "3                4.0            2.0               5.0             2.0   \n",
       "4                4.0            3.0               4.0             1.0   \n",
       "\n",
       "   FINANZ_UNAUFFAELLIGER  FINANZ_HAUSBAUER    ...     PLZ8_ANTG1  PLZ8_ANTG2  \\\n",
       "0                    5.0               3.0    ...            NaN         NaN   \n",
       "1                    4.0               5.0    ...            2.0         3.0   \n",
       "2                    3.0               5.0    ...            3.0         3.0   \n",
       "3                    1.0               2.0    ...            2.0         2.0   \n",
       "4                    3.0               2.0    ...            2.0         4.0   \n",
       "\n",
       "   PLZ8_ANTG3  PLZ8_ANTG4  PLZ8_BAUMAX  PLZ8_HHZ  PLZ8_GBZ  ARBEIT  \\\n",
       "0         NaN         NaN          NaN       NaN       NaN     NaN   \n",
       "1         2.0         1.0          1.0       5.0       4.0     3.0   \n",
       "2         1.0         0.0          1.0       4.0       4.0     3.0   \n",
       "3         2.0         0.0          1.0       3.0       4.0     2.0   \n",
       "4         2.0         1.0          2.0       3.0       3.0     4.0   \n",
       "\n",
       "   ORTSGR_KLS9  RELAT_AB  \n",
       "0          NaN       NaN  \n",
       "1          5.0       4.0  \n",
       "2          5.0       2.0  \n",
       "3          3.0       3.0  \n",
       "4          6.0       5.0  \n",
       "\n",
       "[5 rows x 85 columns]"
      ]
     },
     "execution_count": 16,
     "metadata": {},
     "output_type": "execute_result"
    }
   ],
   "source": [
    "#check the conversion\n",
    "print('Overview after converting the missing values into NaNs:')\n",
    "azdias.head(5)"
   ]
  },
  {
   "cell_type": "markdown",
   "metadata": {},
   "source": [
    "**~Discussion**\n",
    "\n",
    "**From the above representation, the missing/unknown values have been converted into NaNs**"
   ]
  },
  {
   "cell_type": "code",
   "execution_count": 17,
   "metadata": {},
   "outputs": [
    {
     "name": "stdout",
     "output_type": "stream",
     "text": [
      "The total number of missing values after conversion into NaNs step is: 8373929\n"
     ]
    }
   ],
   "source": [
    "#to find the total number of missing values after conversion into NaNs\n",
    "total_missing_converted=azdias.isnull().sum().sum()\n",
    "print('The total number of missing values after conversion into NaNs step is: {}'.format(total_missing_converted))"
   ]
  },
  {
   "cell_type": "markdown",
   "metadata": {},
   "source": [
    "**~Discussion**\n",
    "\n",
    "**There is an increasing number of total missing values in azdias data from 4,896,838 to 8,373,929. This is because, looking at the feat_info data (missing_unknown values are encoded as a series of string of list), which have thereby been converted into NaNs values, hence, increasing the total number of missing values.**"
   ]
  },
  {
   "cell_type": "markdown",
   "metadata": {},
   "source": [
    "#### Step 1.1.2: Assess Missing Data in Each Column\n",
    "\n",
    "How much missing data is present in each column? There are a few columns that are outliers in terms of the proportion of values that are missing. You will want to use matplotlib's [`hist()`](https://matplotlib.org/api/_as_gen/matplotlib.pyplot.hist.html) function to visualize the distribution of missing value counts to find these columns. Identify and document these columns. While some of these columns might have justifications for keeping or re-encoding the data, for this project you should just remove them from the dataframe. (Feel free to make remarks about these outlier columns in the discussion, however!)\n",
    "\n",
    "For the remaining features, are there any patterns in which columns have, or share, missing data?"
   ]
  },
  {
   "cell_type": "code",
   "execution_count": 18,
   "metadata": {},
   "outputs": [
    {
     "name": "stdout",
     "output_type": "stream",
     "text": [
      "The total number of missing values after re-encoding to NaNs in each column is:\n",
      "AGER_TYP                 685843\n",
      "ALTERSKATEGORIE_GROB       2881\n",
      "CJT_GESAMTTYP              4854\n",
      "GEBURTSJAHR              392318\n",
      "GFK_URLAUBERTYP            4854\n",
      "HEALTH_TYP               111196\n",
      "LP_LEBENSPHASE_FEIN       97632\n",
      "LP_LEBENSPHASE_GROB       94572\n",
      "LP_FAMILIE_FEIN           77792\n",
      "LP_FAMILIE_GROB           77792\n",
      "LP_STATUS_FEIN             4854\n",
      "LP_STATUS_GROB             4854\n",
      "NATIONALITAET_KZ         108315\n",
      "PRAEGENDE_JUGENDJAHRE    108164\n",
      "RETOURTYP_BK_S             4854\n",
      "SHOPPER_TYP              111196\n",
      "SOHO_KZ                   73499\n",
      "TITEL_KZ                 889061\n",
      "VERS_TYP                 111196\n",
      "ALTER_HH                 310267\n",
      "ANZ_PERSONEN              73499\n",
      "ANZ_TITEL                 73499\n",
      "HH_EINKOMMEN_SCORE        18348\n",
      "KK_KUNDENTYP             584612\n",
      "W_KEIT_KIND_HH           147988\n",
      "WOHNDAUER_2008            73499\n",
      "ANZ_HAUSHALTE_AKTIV       99611\n",
      "ANZ_HH_TITEL              97008\n",
      "GEBAEUDETYP               93148\n",
      "KONSUMNAEHE               73969\n",
      "                          ...  \n",
      "OST_WEST_KZ               93148\n",
      "WOHNLAGE                  93148\n",
      "CAMEO_DEUG_2015           99352\n",
      "CAMEO_DEU_2015            99352\n",
      "CAMEO_INTL_2015           99352\n",
      "KBA05_ANTG1              133324\n",
      "KBA05_ANTG2              133324\n",
      "KBA05_ANTG3              133324\n",
      "KBA05_ANTG4              133324\n",
      "KBA05_BAUMAX             476524\n",
      "KBA05_GBZ                133324\n",
      "BALLRAUM                  93740\n",
      "EWDICHTE                  93740\n",
      "INNENSTADT                93740\n",
      "GEBAEUDETYP_RASTER        93155\n",
      "KKK                      158064\n",
      "MOBI_REGIO               133324\n",
      "ONLINE_AFFINITAET          4854\n",
      "REGIOTYP                 158064\n",
      "KBA13_ANZAHL_PKW         105800\n",
      "PLZ8_ANTG1               116515\n",
      "PLZ8_ANTG2               116515\n",
      "PLZ8_ANTG3               116515\n",
      "PLZ8_ANTG4               116515\n",
      "PLZ8_BAUMAX              116515\n",
      "PLZ8_HHZ                 116515\n",
      "PLZ8_GBZ                 116515\n",
      "ARBEIT                    97375\n",
      "ORTSGR_KLS9               97274\n",
      "RELAT_AB                  97375\n",
      "Length: 61, dtype: int64\n"
     ]
    }
   ],
   "source": [
    "#Perform an assessment of how much missing data there is in each column of the dataset\n",
    "\n",
    "total_missing_cols=azdias.isnull().sum()[azdias.isnull().sum()>0]\n",
    "print('The total number of missing values after re-encoding to NaNs in each column is:\\n{}'.format(total_missing_cols))\n",
    "total_missing_cols=total_missing_cols[total_missing_cols>0]/[azdias.shape[0]]*100"
   ]
  },
  {
   "cell_type": "markdown",
   "metadata": {},
   "source": [
    "**~Discussion**\n",
    "\n",
    "**From the above analysis, the length (count) of columns in the Azdias data that consist of missing data is 61 out of the 85, therefore, this implies that only 24 columns do not contain missing values.**"
   ]
  },
  {
   "cell_type": "code",
   "execution_count": 19,
   "metadata": {},
   "outputs": [
    {
     "data": {
      "image/png": "[encoded data removed]",
      "text/plain": [
       "<matplotlib.figure.Figure at 0x7fcc9852bb00>"
      ]
     },
     "metadata": {
      "needs_background": "light"
     },
     "output_type": "display_data"
    }
   ],
   "source": [
    "# using Matplotlib's hist() function to visualize the distribution\n",
    "plt.hist(total_missing_cols,bins=20,orientation='vertical')\n",
    "plt.xlabel('% of total missing data')\n",
    "plt.ylabel('features')\n",
    "plt.title('Visualization of the missing value count distribution in the columns')\n",
    "plt.grid(True)\n",
    "plt.show()"
   ]
  },
  {
   "cell_type": "markdown",
   "metadata": {},
   "source": [
    "**~Discussion**\n",
    "\n",
    "**From the histogram plot, surpassing 20% seem to be outlier points in the data. Literally counting them totals to 6 points**"
   ]
  },
  {
   "cell_type": "code",
   "execution_count": 20,
   "metadata": {},
   "outputs": [
    {
     "data": {
      "image/png": "[encoded data removed]",
      "text/plain": [
       "<matplotlib.figure.Figure at 0x7fcc67fbf470>"
      ]
     },
     "metadata": {
      "needs_background": "light"
     },
     "output_type": "display_data"
    }
   ],
   "source": [
    "#investigate patterns in the amount of missing data in each column.\n",
    "\n",
    "total_missing_cols.sort_values(inplace=True)\n",
    "total_missing_cols.plot.bar(figsize=(20,30))\n",
    "plt.title('Plot investigating patterns in the amount of missing data in each column')\n",
    "plt.ylabel('% of data missing')\n",
    "plt.xlabel('FEATURES')\n",
    "plt.show()"
   ]
  },
  {
   "cell_type": "markdown",
   "metadata": {},
   "source": [
    "**~Discussion**\n",
    "\n",
    "**From the plot above investigating the patterns that occur in the columns having missing data, it appears that when above 30% of missing data, there are only 6 features, which I recommend to be dropped as outliers; this is because when dealing with missing/unknown values, dropping them is considered as the last option because of the sensitivity of the task (one could be dropping what is the significant feature for the algorithm). Because of this I will choose the lowest limit threshold as 20%**"
   ]
  },
  {
   "cell_type": "code",
   "execution_count": 21,
   "metadata": {},
   "outputs": [
    {
     "name": "stdout",
     "output_type": "stream",
     "text": [
      "The total number of outliers removed:6\n",
      "['AGER_TYP', 'GEBURTSJAHR', 'TITEL_KZ', 'ALTER_HH', 'KK_KUNDENTYP', 'KBA05_BAUMAX']\n",
      "Columns remaining after removing the outliers: 79\n"
     ]
    }
   ],
   "source": [
    "# Remove the outlier columns from the dataset. (You'll perform other data\n",
    "# engineering tasks such as re-encoding and imputation later.)\n",
    "outlier_col_removal=[colm for colm in azdias.columns if(azdias[colm].isnull().sum()/azdias.shape[0]) *100>20]               \n",
    "outlier_removal_no=len(outlier_col_removal)\n",
    "print('The total number of outliers removed:{}'.format(outlier_removal_no))\n",
    "print(outlier_col_removal)\n",
    "\n",
    "azdias.drop(outlier_col_removal,axis=1,inplace=True)\n",
    "print('Columns remaining after removing the outliers: {}'.format(azdias.shape[1]))\n"
   ]
  },
  {
   "cell_type": "markdown",
   "metadata": {},
   "source": [
    "**~Discussion**\n",
    "\n",
    "**The total number of columns in the Azdias data consisted of 85 columns, 61 of the had missing values; after the analysis to determine the outliers, 6 columns were removed namely: 'AGER_TYP', 'GEBURTSJAHR', 'TITEL_KZ', 'ALTER_HH', 'KK_KUNDENTYP', 'KBA05_BAUMAX'; leaving behind 79 columns.**"
   ]
  },
  {
   "cell_type": "markdown",
   "metadata": {},
   "source": [
    "#### Discussion 1.1.2: Assess Missing Data in Each Column\n",
    "\n",
    "(Double click this cell and replace this text with your own text, reporting your observations regarding the amount of missing data in each column. Are there any patterns in missing values? Which columns were removed from the dataset?)\n",
    "\n",
    "**Answer**\n",
    "\n",
    "**In regards to the amount of missing data, the majority of the columns features have less missing features as compared to the ones with more missing features. In this case, the limit threshold of missing data is 20%; therefore, 6 features have surpassed this mark,hence have been removed from the data, leaving behind 79 column features.**\n",
    "\n",
    "**In response to patterns in the missing data; some features have less missing data while others have a significant amount of missing data of upto 90% and above.**\n",
    "\n",
    "**Therefore, the columns removed are namely: GEBURTSJAHR, TITEL_KZ, ALTER_HH, KK_KUNDENTYP, KBA05_BAUMAX; six columns in total having in this case more than 20% of missing data.**"
   ]
  },
  {
   "cell_type": "markdown",
   "metadata": {},
   "source": [
    "#### Step 1.1.3: Assess Missing Data in Each Row\n",
    "\n",
    "Now, you'll perform a similar assessment for the rows of the dataset. How much data is missing in each row? As with the columns, you should see some groups of points that have a very different numbers of missing values. Divide the data into two subsets: one for data points that are above some threshold for missing values, and a second subset for points below that threshold.\n",
    "\n",
    "In order to know what to do with the outlier rows, we should see if the distribution of data values on columns that are not missing data (or are missing very little data) are similar or different between the two groups. Select at least five of these columns and compare the distribution of values.\n",
    "- You can use seaborn's [`countplot()`](https://seaborn.pydata.org/generated/seaborn.countplot.html) function to create a bar chart of code frequencies and matplotlib's [`subplot()`](https://matplotlib.org/api/_as_gen/matplotlib.pyplot.subplot.html) function to put bar charts for the two subplots side by side.\n",
    "- To reduce repeated code, you might want to write a function that can perform this comparison, taking as one of its arguments a column to be compared.\n",
    "\n",
    "Depending on what you observe in your comparison, this will have implications on how you approach your conclusions later in the analysis. If the distributions of non-missing features look similar between the data with many missing values and the data with few or no missing values, then we could argue that simply dropping those points from the analysis won't present a major issue. On the other hand, if the data with many missing values looks very different from the data with few or no missing values, then we should make a note on those data as special. We'll revisit these data later on. **Either way, you should continue your analysis for now using just the subset of the data with few or no missing values.**"
   ]
  },
  {
   "cell_type": "code",
   "execution_count": 22,
   "metadata": {},
   "outputs": [
    {
     "name": "stdout",
     "output_type": "stream",
     "text": [
      "The maximum number of missing values in rows is: 49\n",
      "The total number of missing values in rows is:\n",
      " 5035304\n",
      "The number of missing values in each row is:\n",
      " 0         43\n",
      "1          0\n",
      "2          0\n",
      "3          7\n",
      "4          0\n",
      "5          0\n",
      "6          0\n",
      "7          0\n",
      "8          0\n",
      "9          0\n",
      "10         0\n",
      "11        47\n",
      "12         6\n",
      "13         8\n",
      "14        47\n",
      "15         8\n",
      "16         6\n",
      "17        47\n",
      "18         3\n",
      "19         0\n",
      "20        10\n",
      "21         0\n",
      "22         0\n",
      "23         8\n",
      "24        47\n",
      "25         5\n",
      "26        19\n",
      "27         0\n",
      "28         0\n",
      "29         2\n",
      "          ..\n",
      "891191     0\n",
      "891192     0\n",
      "891193     0\n",
      "891194     0\n",
      "891195     0\n",
      "891196     0\n",
      "891197     0\n",
      "891198     0\n",
      "891199     0\n",
      "891200     0\n",
      "891201     0\n",
      "891202     0\n",
      "891203    14\n",
      "891204     0\n",
      "891205     0\n",
      "891206     0\n",
      "891207     0\n",
      "891208     3\n",
      "891209     0\n",
      "891210     0\n",
      "891211     0\n",
      "891212     0\n",
      "891213     0\n",
      "891214     0\n",
      "891215     0\n",
      "891216     3\n",
      "891217     4\n",
      "891218     5\n",
      "891219     0\n",
      "891220     0\n",
      "Length: 891221, dtype: int64\n"
     ]
    }
   ],
   "source": [
    "missing_rws_sum=azdias.isnull().sum(axis=1)\n",
    "missing_rws_sum.sort_values(ascending=False)\n",
    "print('The maximum number of missing values in rows is:',missing_rws_sum.max())\n",
    "print('The total number of missing values in rows is:\\n',missing_rws_sum.sum())\n",
    "print('The number of missing values in each row is:\\n',missing_rws_sum)"
   ]
  },
  {
   "cell_type": "code",
   "execution_count": 23,
   "metadata": {},
   "outputs": [
    {
     "name": "stdout",
     "output_type": "stream",
     "text": [
      "The total number of rows is: 891221 \n",
      "The total number of rows having missing data is: 268012 \n",
      "The total number of rows without missing data is: 623209\n"
     ]
    },
    {
     "data": {
      "image/png": "[encoded data removed]",
      "text/plain": [
       "<matplotlib.figure.Figure at 0x7fcc67e34e48>"
      ]
     },
     "metadata": {
      "needs_background": "light"
     },
     "output_type": "display_data"
    }
   ],
   "source": [
    "#How much data is missing in each row of the dataset?\n",
    "all_rows=azdias.isnull().sum(axis=1)\n",
    "missing_data_rows=azdias.isnull().sum(axis=1)[azdias.isnull().sum(axis=1)>0]\n",
    "print('The total number of rows is: {} '.format(len(all_rows)))\n",
    "print('The total number of rows having missing data is: {} '.format(len(missing_data_rows)))\n",
    "print('The total number of rows without missing data is: {}'.format(len(all_rows)-len(missing_data_rows)))\n",
    "\n",
    "#Visualization using plt() method\n",
    "missing_data_plt=missing_data_rows/(azdias.shape[1])*100\n",
    "missing_data_plt.sort_values(ascending=False,inplace=True)\n",
    "\n",
    "plt.hist(missing_data_plt,bins=20)\n",
    "plt.title('Visualization showing amount of missing data in rows')\n",
    "plt.xlabel('% of total missing data in rows')\n",
    "plt.ylabel('Features')\n",
    "plt.grid(True)\n",
    "plt.show()"
   ]
  },
  {
   "cell_type": "markdown",
   "metadata": {},
   "source": [
    "**~Discussion**\n",
    "\n",
    "**From the above plot, it is observed that the total number of rows is 891,221; and those that contain missing data amount to 268,012 rows. It is also observed that the outlier region begins at approximately 37% of the total missing data in rows.**"
   ]
  },
  {
   "cell_type": "code",
   "execution_count": 24,
   "metadata": {},
   "outputs": [
    {
     "name": "stdout",
     "output_type": "stream",
     "text": [
      "93160 instances in above_lim data split\n",
      "798061 instances in below_lim data split\n"
     ]
    }
   ],
   "source": [
    "# Write code to divide the data into two subsets based on the number of missing\n",
    "# values in each row.\n",
    "all_rows_plt=all_rows/(azdias.shape[1])\n",
    "outlier_lim=0.37\n",
    "azdias=azdias.assign(row_missing=pd.Series(all_rows_plt.values))\n",
    "\n",
    "#data splits\n",
    "above_lim=azdias[azdias['row_missing']>=outlier_lim]\n",
    "below_lim=azdias[azdias['row_missing']<=outlier_lim]\n",
    "\n",
    "#print statements\n",
    "print('{} instances in above_lim data split'.format(above_lim.shape[0]))\n",
    "print('{} instances in below_lim data split'.format(below_lim.shape[0]))\n"
   ]
  },
  {
   "cell_type": "markdown",
   "metadata": {},
   "source": [
    "**~Discussion**\n",
    "\n",
    "**2 data splits have been created namely:**\n",
    "\n",
    "**1.) above_lim=93,160 instances**\n",
    "\n",
    "**2.) below_lim=798,061 instances**"
   ]
  },
  {
   "cell_type": "code",
   "execution_count": 25,
   "metadata": {
    "scrolled": true
   },
   "outputs": [
    {
     "data": {
      "text/html": [
       "<div>\n",
       "<style scoped>\n",
       "    .dataframe tbody tr th:only-of-type {\n",
       "        vertical-align: middle;\n",
       "    }\n",
       "\n",
       "    .dataframe tbody tr th {\n",
       "        vertical-align: top;\n",
       "    }\n",
       "\n",
       "    .dataframe thead th {\n",
       "        text-align: right;\n",
       "    }\n",
       "</style>\n",
       "<table border=\"1\" class=\"dataframe\">\n",
       "  <thead>\n",
       "    <tr style=\"text-align: right;\">\n",
       "      <th></th>\n",
       "      <th>ALTERSKATEGORIE_GROB</th>\n",
       "      <th>ANREDE_KZ</th>\n",
       "      <th>CJT_GESAMTTYP</th>\n",
       "      <th>FINANZ_MINIMALIST</th>\n",
       "      <th>FINANZ_SPARER</th>\n",
       "      <th>FINANZ_VORSORGER</th>\n",
       "      <th>FINANZ_ANLEGER</th>\n",
       "      <th>FINANZ_UNAUFFAELLIGER</th>\n",
       "      <th>FINANZ_HAUSBAUER</th>\n",
       "      <th>FINANZTYP</th>\n",
       "      <th>...</th>\n",
       "      <th>PLZ8_ANTG2</th>\n",
       "      <th>PLZ8_ANTG3</th>\n",
       "      <th>PLZ8_ANTG4</th>\n",
       "      <th>PLZ8_BAUMAX</th>\n",
       "      <th>PLZ8_HHZ</th>\n",
       "      <th>PLZ8_GBZ</th>\n",
       "      <th>ARBEIT</th>\n",
       "      <th>ORTSGR_KLS9</th>\n",
       "      <th>RELAT_AB</th>\n",
       "      <th>row_missing</th>\n",
       "    </tr>\n",
       "  </thead>\n",
       "  <tbody>\n",
       "    <tr>\n",
       "      <th>count</th>\n",
       "      <td>795258.000000</td>\n",
       "      <td>798061.000000</td>\n",
       "      <td>793316.000000</td>\n",
       "      <td>798061.000000</td>\n",
       "      <td>798061.000000</td>\n",
       "      <td>798061.000000</td>\n",
       "      <td>798061.000000</td>\n",
       "      <td>798061.000000</td>\n",
       "      <td>798061.000000</td>\n",
       "      <td>798061.000000</td>\n",
       "      <td>...</td>\n",
       "      <td>774706.000000</td>\n",
       "      <td>774706.000000</td>\n",
       "      <td>774706.000000</td>\n",
       "      <td>774706.000000</td>\n",
       "      <td>774706.000000</td>\n",
       "      <td>774706.000000</td>\n",
       "      <td>793834.000000</td>\n",
       "      <td>793935.000000</td>\n",
       "      <td>793834.000000</td>\n",
       "      <td>798061.000000</td>\n",
       "    </tr>\n",
       "    <tr>\n",
       "      <th>mean</th>\n",
       "      <td>2.795412</td>\n",
       "      <td>1.521485</td>\n",
       "      <td>3.502893</td>\n",
       "      <td>3.058917</td>\n",
       "      <td>2.716047</td>\n",
       "      <td>3.432892</td>\n",
       "      <td>2.840955</td>\n",
       "      <td>2.658348</td>\n",
       "      <td>3.114102</td>\n",
       "      <td>3.797751</td>\n",
       "      <td>...</td>\n",
       "      <td>2.801858</td>\n",
       "      <td>1.595426</td>\n",
       "      <td>0.699166</td>\n",
       "      <td>1.943913</td>\n",
       "      <td>3.612821</td>\n",
       "      <td>3.381087</td>\n",
       "      <td>3.166687</td>\n",
       "      <td>5.293396</td>\n",
       "      <td>3.071035</td>\n",
       "      <td>0.016086</td>\n",
       "    </tr>\n",
       "    <tr>\n",
       "      <th>std</th>\n",
       "      <td>1.018409</td>\n",
       "      <td>0.499538</td>\n",
       "      <td>1.537612</td>\n",
       "      <td>1.377577</td>\n",
       "      <td>1.485090</td>\n",
       "      <td>1.376866</td>\n",
       "      <td>1.472782</td>\n",
       "      <td>1.399530</td>\n",
       "      <td>1.408109</td>\n",
       "      <td>2.084705</td>\n",
       "      <td>...</td>\n",
       "      <td>0.920309</td>\n",
       "      <td>0.986736</td>\n",
       "      <td>0.727137</td>\n",
       "      <td>1.459654</td>\n",
       "      <td>0.973967</td>\n",
       "      <td>1.111598</td>\n",
       "      <td>0.999070</td>\n",
       "      <td>2.303377</td>\n",
       "      <td>1.360535</td>\n",
       "      <td>0.038752</td>\n",
       "    </tr>\n",
       "    <tr>\n",
       "      <th>min</th>\n",
       "      <td>1.000000</td>\n",
       "      <td>1.000000</td>\n",
       "      <td>1.000000</td>\n",
       "      <td>1.000000</td>\n",
       "      <td>1.000000</td>\n",
       "      <td>1.000000</td>\n",
       "      <td>1.000000</td>\n",
       "      <td>1.000000</td>\n",
       "      <td>1.000000</td>\n",
       "      <td>1.000000</td>\n",
       "      <td>...</td>\n",
       "      <td>0.000000</td>\n",
       "      <td>0.000000</td>\n",
       "      <td>0.000000</td>\n",
       "      <td>1.000000</td>\n",
       "      <td>1.000000</td>\n",
       "      <td>1.000000</td>\n",
       "      <td>1.000000</td>\n",
       "      <td>1.000000</td>\n",
       "      <td>1.000000</td>\n",
       "      <td>0.000000</td>\n",
       "    </tr>\n",
       "    <tr>\n",
       "      <th>25%</th>\n",
       "      <td>2.000000</td>\n",
       "      <td>1.000000</td>\n",
       "      <td>2.000000</td>\n",
       "      <td>2.000000</td>\n",
       "      <td>1.000000</td>\n",
       "      <td>2.000000</td>\n",
       "      <td>1.000000</td>\n",
       "      <td>1.000000</td>\n",
       "      <td>2.000000</td>\n",
       "      <td>2.000000</td>\n",
       "      <td>...</td>\n",
       "      <td>2.000000</td>\n",
       "      <td>1.000000</td>\n",
       "      <td>0.000000</td>\n",
       "      <td>1.000000</td>\n",
       "      <td>3.000000</td>\n",
       "      <td>3.000000</td>\n",
       "      <td>3.000000</td>\n",
       "      <td>4.000000</td>\n",
       "      <td>2.000000</td>\n",
       "      <td>0.000000</td>\n",
       "    </tr>\n",
       "    <tr>\n",
       "      <th>50%</th>\n",
       "      <td>3.000000</td>\n",
       "      <td>2.000000</td>\n",
       "      <td>4.000000</td>\n",
       "      <td>3.000000</td>\n",
       "      <td>3.000000</td>\n",
       "      <td>4.000000</td>\n",
       "      <td>3.000000</td>\n",
       "      <td>2.000000</td>\n",
       "      <td>3.000000</td>\n",
       "      <td>4.000000</td>\n",
       "      <td>...</td>\n",
       "      <td>3.000000</td>\n",
       "      <td>2.000000</td>\n",
       "      <td>1.000000</td>\n",
       "      <td>1.000000</td>\n",
       "      <td>4.000000</td>\n",
       "      <td>3.000000</td>\n",
       "      <td>3.000000</td>\n",
       "      <td>5.000000</td>\n",
       "      <td>3.000000</td>\n",
       "      <td>0.000000</td>\n",
       "    </tr>\n",
       "    <tr>\n",
       "      <th>75%</th>\n",
       "      <td>4.000000</td>\n",
       "      <td>2.000000</td>\n",
       "      <td>5.000000</td>\n",
       "      <td>4.000000</td>\n",
       "      <td>4.000000</td>\n",
       "      <td>5.000000</td>\n",
       "      <td>4.000000</td>\n",
       "      <td>4.000000</td>\n",
       "      <td>4.000000</td>\n",
       "      <td>6.000000</td>\n",
       "      <td>...</td>\n",
       "      <td>3.000000</td>\n",
       "      <td>2.000000</td>\n",
       "      <td>1.000000</td>\n",
       "      <td>3.000000</td>\n",
       "      <td>4.000000</td>\n",
       "      <td>4.000000</td>\n",
       "      <td>4.000000</td>\n",
       "      <td>7.000000</td>\n",
       "      <td>4.000000</td>\n",
       "      <td>0.000000</td>\n",
       "    </tr>\n",
       "    <tr>\n",
       "      <th>max</th>\n",
       "      <td>4.000000</td>\n",
       "      <td>2.000000</td>\n",
       "      <td>6.000000</td>\n",
       "      <td>5.000000</td>\n",
       "      <td>5.000000</td>\n",
       "      <td>5.000000</td>\n",
       "      <td>5.000000</td>\n",
       "      <td>5.000000</td>\n",
       "      <td>5.000000</td>\n",
       "      <td>6.000000</td>\n",
       "      <td>...</td>\n",
       "      <td>4.000000</td>\n",
       "      <td>3.000000</td>\n",
       "      <td>2.000000</td>\n",
       "      <td>5.000000</td>\n",
       "      <td>5.000000</td>\n",
       "      <td>5.000000</td>\n",
       "      <td>5.000000</td>\n",
       "      <td>9.000000</td>\n",
       "      <td>5.000000</td>\n",
       "      <td>0.367089</td>\n",
       "    </tr>\n",
       "  </tbody>\n",
       "</table>\n",
       "<p>8 rows × 76 columns</p>\n",
       "</div>"
      ],
      "text/plain": [
       "       ALTERSKATEGORIE_GROB      ANREDE_KZ  CJT_GESAMTTYP  FINANZ_MINIMALIST  \\\n",
       "count         795258.000000  798061.000000  793316.000000      798061.000000   \n",
       "mean               2.795412       1.521485       3.502893           3.058917   \n",
       "std                1.018409       0.499538       1.537612           1.377577   \n",
       "min                1.000000       1.000000       1.000000           1.000000   \n",
       "25%                2.000000       1.000000       2.000000           2.000000   \n",
       "50%                3.000000       2.000000       4.000000           3.000000   \n",
       "75%                4.000000       2.000000       5.000000           4.000000   \n",
       "max                4.000000       2.000000       6.000000           5.000000   \n",
       "\n",
       "       FINANZ_SPARER  FINANZ_VORSORGER  FINANZ_ANLEGER  FINANZ_UNAUFFAELLIGER  \\\n",
       "count  798061.000000     798061.000000   798061.000000          798061.000000   \n",
       "mean        2.716047          3.432892        2.840955               2.658348   \n",
       "std         1.485090          1.376866        1.472782               1.399530   \n",
       "min         1.000000          1.000000        1.000000               1.000000   \n",
       "25%         1.000000          2.000000        1.000000               1.000000   \n",
       "50%         3.000000          4.000000        3.000000               2.000000   \n",
       "75%         4.000000          5.000000        4.000000               4.000000   \n",
       "max         5.000000          5.000000        5.000000               5.000000   \n",
       "\n",
       "       FINANZ_HAUSBAUER      FINANZTYP      ...           PLZ8_ANTG2  \\\n",
       "count     798061.000000  798061.000000      ...        774706.000000   \n",
       "mean           3.114102       3.797751      ...             2.801858   \n",
       "std            1.408109       2.084705      ...             0.920309   \n",
       "min            1.000000       1.000000      ...             0.000000   \n",
       "25%            2.000000       2.000000      ...             2.000000   \n",
       "50%            3.000000       4.000000      ...             3.000000   \n",
       "75%            4.000000       6.000000      ...             3.000000   \n",
       "max            5.000000       6.000000      ...             4.000000   \n",
       "\n",
       "          PLZ8_ANTG3     PLZ8_ANTG4    PLZ8_BAUMAX       PLZ8_HHZ  \\\n",
       "count  774706.000000  774706.000000  774706.000000  774706.000000   \n",
       "mean        1.595426       0.699166       1.943913       3.612821   \n",
       "std         0.986736       0.727137       1.459654       0.973967   \n",
       "min         0.000000       0.000000       1.000000       1.000000   \n",
       "25%         1.000000       0.000000       1.000000       3.000000   \n",
       "50%         2.000000       1.000000       1.000000       4.000000   \n",
       "75%         2.000000       1.000000       3.000000       4.000000   \n",
       "max         3.000000       2.000000       5.000000       5.000000   \n",
       "\n",
       "            PLZ8_GBZ         ARBEIT    ORTSGR_KLS9       RELAT_AB  \\\n",
       "count  774706.000000  793834.000000  793935.000000  793834.000000   \n",
       "mean        3.381087       3.166687       5.293396       3.071035   \n",
       "std         1.111598       0.999070       2.303377       1.360535   \n",
       "min         1.000000       1.000000       1.000000       1.000000   \n",
       "25%         3.000000       3.000000       4.000000       2.000000   \n",
       "50%         3.000000       3.000000       5.000000       3.000000   \n",
       "75%         4.000000       4.000000       7.000000       4.000000   \n",
       "max         5.000000       5.000000       9.000000       5.000000   \n",
       "\n",
       "         row_missing  \n",
       "count  798061.000000  \n",
       "mean        0.016086  \n",
       "std         0.038752  \n",
       "min         0.000000  \n",
       "25%         0.000000  \n",
       "50%         0.000000  \n",
       "75%         0.000000  \n",
       "max         0.367089  \n",
       "\n",
       "[8 rows x 76 columns]"
      ]
     },
     "execution_count": 25,
     "metadata": {},
     "output_type": "execute_result"
    }
   ],
   "source": [
    "below_lim.describe()"
   ]
  },
  {
   "cell_type": "code",
   "execution_count": 26,
   "metadata": {
    "scrolled": false
   },
   "outputs": [
    {
     "name": "stdout",
     "output_type": "stream",
     "text": [
      "['ZABEOTYP', 'FINANZTYP', 'SEMIO_RAT', 'SEMIO_PFLICHT', 'SEMIO_KRIT', 'FINANZ_VORSORGER']\n"
     ]
    },
    {
     "data": {
      "image/png": "[encoded data removed]",
      "text/plain": [
       "<matplotlib.figure.Figure at 0x7fcc67d69978>"
      ]
     },
     "metadata": {
      "needs_background": "light"
     },
     "output_type": "display_data"
    },
    {
     "data": {
      "image/png": "[encoded data removed]",
      "text/plain": [
       "<matplotlib.figure.Figure at 0x7fcc65f7c278>"
      ]
     },
     "metadata": {
      "needs_background": "light"
     },
     "output_type": "display_data"
    },
    {
     "data": {
      "image/png": "[encoded data removed]",
      "text/plain": [
       "<matplotlib.figure.Figure at 0x7fcc65f7c2e8>"
      ]
     },
     "metadata": {
      "needs_background": "light"
     },
     "output_type": "display_data"
    },
    {
     "data": {
      "image/png": "[encoded data removed]",
      "text/plain": [
       "<matplotlib.figure.Figure at 0x7fcc66471d30>"
      ]
     },
     "metadata": {
      "needs_background": "light"
     },
     "output_type": "display_data"
    },
    {
     "data": {
      "image/png": "[encoded data removed]",
      "text/plain": [
       "<matplotlib.figure.Figure at 0x7fcc663fa550>"
      ]
     },
     "metadata": {
      "needs_background": "light"
     },
     "output_type": "display_data"
    },
    {
     "data": {
      "image/png": "[encoded data removed]",
      "text/plain": [
       "<matplotlib.figure.Figure at 0x7fcc67db26a0>"
      ]
     },
     "metadata": {
      "needs_background": "light"
     },
     "output_type": "display_data"
    }
   ],
   "source": [
    "# Compare the distribution of values for at least five columns where there are\n",
    "# no or few missing values, between the two subsets.\n",
    "np.random.seed(700)\n",
    "selected_clms=np.random.choice(azdias.dropna(axis=1).columns,6).tolist()\n",
    "print(selected_clms)\n",
    "\n",
    "#plotting using seaborn.countplot() method and the subplot() method\n",
    "for clm in selected_clms:\n",
    "    fig=plt.figure(figsize=(10,5))\n",
    "    axis1=fig.add_subplot(1,2,1)\n",
    "    sns.countplot(above_lim[clm])\n",
    "    \n",
    "    axis2=fig.add_subplot(1,2,2)\n",
    "    sns.countplot(below_lim[clm])\n",
    "    \n",
    "    axis1.title.set_text('Plot showing for above the limit')\n",
    "    axis2.title.set_text('Plot showing for below the limit')\n",
    "    \n",
    "    \n",
    "    plt.show()\n"
   ]
  },
  {
   "cell_type": "markdown",
   "metadata": {},
   "source": [
    "#### Discussion 1.1.3: Assess Missing Data in Each Row\n",
    "\n",
    "(Double-click this cell and replace this text with your own text, reporting your observations regarding missing data in rows. Are the data with lots of missing values are qualitatively different from data with few or no missing values?)\n",
    "\n",
    "**Answer**\n",
    "\n",
    "**From the above plot, there is a distinct difference between the two subplits namely: above_lim and below_lim, which in this case represent rows with many missing values and rows with few missing values respectively above a given limit; which in this case is approximately 37%.**\n",
    "\n",
    "**Even though from the plot having different scales for the y-axis; it still shows a peculiar characteristic in that for those rows having many missing values (above_lim) there is a significant quantitative difference from those having few/no missing values(below_lim).**\n",
    "\n",
    "**Based on the given instruction, the data split 'below_lim' is used in the rest of the notebook**"
   ]
  },
  {
   "cell_type": "code",
   "execution_count": 27,
   "metadata": {},
   "outputs": [
    {
     "name": "stdout",
     "output_type": "stream",
     "text": [
      "798061 rows and 80 columns\n"
     ]
    }
   ],
   "source": [
    "print('{} rows and {} columns'.format(below_lim.shape[0],below_lim.shape[1]))"
   ]
  },
  {
   "cell_type": "markdown",
   "metadata": {},
   "source": [
    "### Step 1.2: Select and Re-Encode Features\n",
    "\n",
    "Checking for missing data isn't the only way in which you can prepare a dataset for analysis. Since the unsupervised learning techniques to be used will only work on data that is encoded numerically, you need to make a few encoding changes or additional assumptions to be able to make progress. In addition, while almost all of the values in the dataset are encoded using numbers, not all of them represent numeric values. Check the third column of the feature summary (`feat_info`) for a summary of types of measurement.\n",
    "- For numeric and interval data, these features can be kept without changes.\n",
    "- Most of the variables in the dataset are ordinal in nature. While ordinal values may technically be non-linear in spacing, make the simplifying assumption that the ordinal variables can be treated as being interval in nature (that is, kept without any changes).\n",
    "- Special handling may be necessary for the remaining two variable types: categorical, and 'mixed'.\n",
    "\n",
    "In the first two parts of this sub-step, you will perform an investigation of the categorical and mixed-type features and make a decision on each of them, whether you will keep, drop, or re-encode each. Then, in the last part, you will create a new data frame with only the selected and engineered columns.\n",
    "\n",
    "Data wrangling is often the trickiest part of the data analysis process, and there's a lot of it to be done here. But stick with it: once you're done with this step, you'll be ready to get to the machine learning parts of the project!"
   ]
  },
  {
   "cell_type": "code",
   "execution_count": 28,
   "metadata": {},
   "outputs": [
    {
     "name": "stdout",
     "output_type": "stream",
     "text": [
      "data type and their total number in feat_info:\n",
      " ordinal        49\n",
      "categorical    18\n",
      "numeric         6\n",
      "mixed           6\n",
      "Name: type, dtype: int64\n"
     ]
    }
   ],
   "source": [
    "# How many features are there of each data type?\n",
    "feat_info=feat_info[feat_info.attribute.isin(outlier_col_removal)==False]\n",
    "print('data type and their total number in feat_info:\\n',feat_info.type.value_counts())\n"
   ]
  },
  {
   "cell_type": "markdown",
   "metadata": {},
   "source": [
    "**~Discussion**\n",
    "\n",
    "**From the investigation of the categorical and mixed-type features, there are 49 ORDINAL type, 18 CATEGORICAL type, 6 NUMERIC type, 6 MIXED type.**"
   ]
  },
  {
   "cell_type": "markdown",
   "metadata": {},
   "source": [
    "#### Step 1.2.1: Re-Encode Categorical Features\n",
    "\n",
    "For categorical data, you would ordinarily need to encode the levels as dummy variables. Depending on the number of categories, perform one of the following:\n",
    "- For binary (two-level) categoricals that take numeric values, you can keep them without needing to do anything.\n",
    "- There is one binary variable that takes on non-numeric values. For this one, you need to re-encode the values as numbers or create a dummy variable.\n",
    "- For multi-level categoricals (three or more values), you can choose to encode the values using multiple dummy variables (e.g. via [OneHotEncoder](http://scikit-learn.org/stable/modules/generated/sklearn.preprocessing.OneHotEncoder.html)), or (to keep things straightforward) just drop them from the analysis. As always, document your choices in the Discussion section."
   ]
  },
  {
   "cell_type": "code",
   "execution_count": 29,
   "metadata": {},
   "outputs": [
    {
     "name": "stdout",
     "output_type": "stream",
     "text": [
      "The categorical features are namely:\n",
      "['ANREDE_KZ', 'CJT_GESAMTTYP', 'FINANZTYP', 'GFK_URLAUBERTYP', 'GREEN_AVANTGARDE', 'LP_FAMILIE_FEIN', 'LP_FAMILIE_GROB', 'LP_STATUS_FEIN', 'LP_STATUS_GROB', 'NATIONALITAET_KZ', 'SHOPPER_TYP', 'SOHO_KZ', 'VERS_TYP', 'ZABEOTYP', 'GEBAEUDETYP', 'OST_WEST_KZ', 'CAMEO_DEUG_2015', 'CAMEO_DEU_2015']\n"
     ]
    }
   ],
   "source": [
    "# Assess categorical variables: which are binary, which are multi-level, and\n",
    "# which one needs to be re-encoded?\n",
    "list_categorical=feat_info[feat_info['type']=='categorical'].attribute.tolist()\n",
    "print('The categorical features are namely:\\n{}'.format(list_categorical))\n"
   ]
  },
  {
   "cell_type": "code",
   "execution_count": 30,
   "metadata": {},
   "outputs": [
    {
     "name": "stdout",
     "output_type": "stream",
     "text": [
      "The multi subcategory includes:\n",
      "['CJT_GESAMTTYP', 'FINANZTYP', 'GFK_URLAUBERTYP', 'LP_FAMILIE_FEIN', 'LP_FAMILIE_GROB', 'LP_STATUS_FEIN', 'LP_STATUS_GROB', 'NATIONALITAET_KZ', 'SHOPPER_TYP', 'ZABEOTYP', 'GEBAEUDETYP', 'CAMEO_DEUG_2015', 'CAMEO_DEU_2015']\n",
      "\n",
      "\n",
      "The binary subcategory includes:\n",
      "['ANREDE_KZ', 'GREEN_AVANTGARDE', 'SOHO_KZ', 'VERS_TYP', 'OST_WEST_KZ']\n"
     ]
    }
   ],
   "source": [
    "list_categorical_multi=[]\n",
    "list_categorical_binary=[]\n",
    "\n",
    "for feature in list_categorical:\n",
    "    if feature in below_lim.columns.tolist():\n",
    "        if below_lim[feature].nunique()>2:\n",
    "            list_categorical_multi.append(feature)\n",
    "        else:\n",
    "            list_categorical_binary.append(feature)\n",
    "\n",
    "print('The multi subcategory includes:\\n{}\\n\\n'.format(list_categorical_multi))\n",
    "print('The binary subcategory includes:\\n{}'.format(list_categorical_binary))"
   ]
  },
  {
   "cell_type": "code",
   "execution_count": 31,
   "metadata": {
    "scrolled": false
   },
   "outputs": [
    {
     "name": "stdout",
     "output_type": "stream",
     "text": [
      "ANREDE_KZ \n",
      " 2.0    416177\n",
      "1.0    381884\n",
      "Name: ANREDE_KZ, dtype: int64 \n",
      "\n",
      "GREEN_AVANTGARDE \n",
      " 0    622836\n",
      "1    175225\n",
      "Name: GREEN_AVANTGARDE, dtype: int64 \n",
      "\n",
      "SOHO_KZ \n",
      " 0.0    791344\n",
      "1.0      6717\n",
      "Name: SOHO_KZ, dtype: int64 \n",
      "\n",
      "VERS_TYP \n",
      " 2.0    394238\n",
      "1.0    367102\n",
      "Name: VERS_TYP, dtype: int64 \n",
      "\n",
      "OST_WEST_KZ \n",
      " W    629520\n",
      "O    168541\n",
      "Name: OST_WEST_KZ, dtype: int64 \n",
      "\n"
     ]
    }
   ],
   "source": [
    "#binary subcategory info\n",
    "for feature in list_categorical_binary:\n",
    "    print(feature,'\\n',below_lim[feature].value_counts(),'\\n')"
   ]
  },
  {
   "cell_type": "markdown",
   "metadata": {},
   "source": [
    "**~Discussion**\n",
    "**From the analysis of the binary subcategory, it is seen that the feature 'OST_WEST_KZ' has non-numeric values: O,W; as a result of this, this feature will be reencoded.**\n",
    "\n",
    "**In addition to that, the features 'ANREDE_KZ' and 'VERS_TYP' will be reencoded to 1,0**"
   ]
  },
  {
   "cell_type": "code",
   "execution_count": 32,
   "metadata": {},
   "outputs": [
    {
     "name": "stdout",
     "output_type": "stream",
     "text": [
      "ANREDE_KZ \n",
      " 1.0    416177\n",
      "0.0    381884\n",
      "Name: ANREDE_KZ, dtype: int64 \n",
      "\n",
      "GREEN_AVANTGARDE \n",
      " 0    622836\n",
      "1    175225\n",
      "Name: GREEN_AVANTGARDE, dtype: int64 \n",
      "\n",
      "SOHO_KZ \n",
      " 0.0    791344\n",
      "1.0      6717\n",
      "Name: SOHO_KZ, dtype: int64 \n",
      "\n",
      "VERS_TYP \n",
      " 1.0    394238\n",
      "0.0    367102\n",
      "Name: VERS_TYP, dtype: int64 \n",
      "\n",
      "OST_WEST_KZ \n",
      " 1    629520\n",
      "0    168541\n",
      "Name: OST_WEST_KZ, dtype: int64 \n",
      "\n"
     ]
    }
   ],
   "source": [
    "# Re-encode categorical variable(s) to be kept in the analysis.\n",
    "below_lim_1=below_lim.copy()\n",
    "below_lim_1['OST_WEST_KZ'].replace(['W','O'],[1,0],inplace=True)\n",
    "below_lim_1['ANREDE_KZ'].replace([2.0,1.0],[1,0],inplace=True)\n",
    "below_lim_1['VERS_TYP'].replace([2.0,1.0],[1,0],inplace=True)\n",
    "\n",
    "#check\n",
    "for feature in list_categorical_binary:\n",
    "    print(feature,'\\n',below_lim_1[feature].value_counts(),'\\n')\n"
   ]
  },
  {
   "cell_type": "code",
   "execution_count": 33,
   "metadata": {},
   "outputs": [],
   "source": [
    "#drop the multi subcategory\n",
    "for feature in list_categorical_multi:\n",
    "    below_lim_1=below_lim_1.drop(feature,axis=1)"
   ]
  },
  {
   "cell_type": "markdown",
   "metadata": {},
   "source": [
    "#### Discussion 1.2.1: Re-Encode Categorical Features\n",
    "\n",
    "(Double-click this cell and replace this text with your own text, reporting your findings and decisions regarding categorical features. Which ones did you keep, which did you drop, and what engineering steps did you perform?)\n",
    "\n",
    "**Answer**\n",
    "\n",
    "**There were 18 total categorical features in the data; 5 of which were of binary data type and the other 13 were of a multi-level data type.**\n",
    "\n",
    "**In regards to the categorical features, there were 3 main groups namely: 1.) Binary, 2.) Non-numeric binary and 3.) Multi-level.**\n",
    "\n",
    "**All of the 13 multi-level categories were dropped, the 1 binary variable which is non-numeric was re-encoded. For the purpose of simplicity, the other 2 binary variable which had values 2.0 and 1.0 each, were re-encoded to 1 and 0 respectively.**"
   ]
  },
  {
   "cell_type": "markdown",
   "metadata": {},
   "source": [
    "#### Step 1.2.2: Engineer Mixed-Type Features\n",
    "\n",
    "There are a handful of features that are marked as \"mixed\" in the feature summary that require special treatment in order to be included in the analysis. There are two in particular that deserve attention; the handling of the rest are up to your own choices:\n",
    "- \"PRAEGENDE_JUGENDJAHRE\" combines information on three dimensions: generation by decade, movement (mainstream vs. avantgarde), and nation (east vs. west). While there aren't enough levels to disentangle east from west, you should create two new variables to capture the other two dimensions: an interval-type variable for decade, and a binary variable for movement.\n",
    "- \"CAMEO_INTL_2015\" combines information on two axes: wealth and life stage. Break up the two-digit codes by their 'tens'-place and 'ones'-place digits into two new ordinal variables (which, for the purposes of this project, is equivalent to just treating them as their raw numeric values).\n",
    "- If you decide to keep or engineer new features around the other mixed-type features, make sure you note your steps in the Discussion section.\n",
    "\n",
    "Be sure to check `Data_Dictionary.md` for the details needed to finish these tasks."
   ]
  },
  {
   "cell_type": "code",
   "execution_count": 34,
   "metadata": {},
   "outputs": [
    {
     "name": "stdout",
     "output_type": "stream",
     "text": [
      "The mixed-type features include:\n",
      "['LP_LEBENSPHASE_FEIN', 'LP_LEBENSPHASE_GROB', 'PRAEGENDE_JUGENDJAHRE', 'WOHNLAGE', 'CAMEO_INTL_2015', 'PLZ8_BAUMAX']\n"
     ]
    }
   ],
   "source": [
    "#viewing the mixed-type features\n",
    "list_categorical_mixed=feat_info[feat_info['type']=='mixed'].attribute.tolist()\n",
    "print('The mixed-type features include:\\n{}'.format(list_categorical_mixed))"
   ]
  },
  {
   "cell_type": "code",
   "execution_count": 35,
   "metadata": {},
   "outputs": [
    {
     "name": "stdout",
     "output_type": "stream",
     "text": [
      "The structure of PRAEGENDE_JUGENDJAHRE is as follows:\n",
      "14.0    182983\n",
      "8.0     141630\n",
      "10.0     85808\n",
      "5.0      84691\n",
      "3.0      53845\n",
      "15.0     42547\n",
      "11.0     35752\n",
      "9.0      33570\n",
      "6.0      25652\n",
      "12.0     24446\n",
      "1.0      20678\n",
      "4.0      20451\n",
      "2.0       7479\n",
      "13.0      5764\n",
      "7.0       4010\n",
      "Name: PRAEGENDE_JUGENDJAHRE, dtype: int64\n"
     ]
    }
   ],
   "source": [
    "# Investigate \"PRAEGENDE_JUGENDJAHRE\" and engineer two new variables.\n",
    "print('The structure of PRAEGENDE_JUGENDJAHRE is as follows:\\n{}'.format(below_lim_1['PRAEGENDE_JUGENDJAHRE'].value_counts()))\n",
    "decade_var={\n",
    "    0:[1,2],\n",
    "    1:[3,4],\n",
    "    2:[5,6,7],\n",
    "    3:[8,9],\n",
    "    4:[10,11,12,13],\n",
    "    5:[14,15] \n",
    "           }\n",
    "#function for the interval-type variable for decade\n",
    "def decade_features(value):\n",
    "    try:\n",
    "        for feature,values in decade_var.items():\n",
    "            if value in values:\n",
    "                return feature\n",
    "    except ValueError:\n",
    "        return np.nan\n",
    "\n",
    "movement_var={\n",
    "    0:[2,4,6,7,9,11,13,15],\n",
    "    1:[1,3,5,8,10,12,14]\n",
    "            }    \n",
    "#function for the binary variable for movement\n",
    "def movement_features(value):\n",
    "    try:\n",
    "        for feature,values in movement_var.items():\n",
    "            if value in values:\n",
    "                return feature\n",
    "        else:\n",
    "            return 0\n",
    "    except ValueError:\n",
    "        return np.nan"
   ]
  },
  {
   "cell_type": "code",
   "execution_count": 36,
   "metadata": {},
   "outputs": [
    {
     "name": "stdout",
     "output_type": "stream",
     "text": [
      "The structure of movement feature is as follows:\n",
      "1    594081\n",
      "0    203980\n",
      "Name: P_J_MOVEMENT_FEATURE, dtype: int64\n",
      "The structure of decade is as follows:\n",
      "5.0    225530\n",
      "3.0    175200\n",
      "4.0    151770\n",
      "2.0    114353\n",
      "1.0     74296\n",
      "0.0     28157\n",
      "Name: P_J_DECADE_FEATURE, dtype: int64\n"
     ]
    }
   ],
   "source": [
    "#printing the results\n",
    "below_lim_1['P_J_MOVEMENT_FEATURE']=below_lim_1['PRAEGENDE_JUGENDJAHRE'].apply(movement_features)\n",
    "below_lim_1['P_J_DECADE_FEATURE']=below_lim_1['PRAEGENDE_JUGENDJAHRE'].apply(decade_features)\n",
    "\n",
    "print('The structure of movement feature is as follows:\\n{}'.format(below_lim_1['P_J_MOVEMENT_FEATURE'].value_counts()))\n",
    "print('The structure of decade is as follows:\\n{}'.format(below_lim_1['P_J_DECADE_FEATURE'].value_counts()))"
   ]
  },
  {
   "cell_type": "code",
   "execution_count": 37,
   "metadata": {},
   "outputs": [
    {
     "name": "stdout",
     "output_type": "stream",
     "text": [
      "The structure of CAMEO_INTL_2015 is as follows:\n",
      "51    133694\n",
      "41     92336\n",
      "24     91157\n",
      "14     62884\n",
      "43     56672\n",
      "54     45391\n",
      "25     39626\n",
      "22     33154\n",
      "23     26750\n",
      "13     26335\n",
      "45     26132\n",
      "55     23955\n",
      "52     20542\n",
      "31     19023\n",
      "34     18524\n",
      "15     16974\n",
      "44     14820\n",
      "12     13249\n",
      "35     10356\n",
      "32     10354\n",
      "33      9935\n",
      "Name: CAMEO_INTL_2015, dtype: int64\n"
     ]
    }
   ],
   "source": [
    "# Investigate \"CAMEO_INTL_2015\" and engineer two new variables.\n",
    "print('The structure of CAMEO_INTL_2015 is as follows:\\n{}'.format(below_lim_1['CAMEO_INTL_2015'].value_counts()))\n",
    "\n",
    "#function for  Wealth typology\n",
    "def wealth_typology(value):\n",
    "    try:\n",
    "        if pd.isnull(value):\n",
    "            return np.nan\n",
    "        else:\n",
    "            return int(str(value)[0])\n",
    "    except ValueError:\n",
    "        return np.nan\n",
    "\n",
    "#function for Lifestage typology\n",
    "def lifestage_typology(value):\n",
    "    try:\n",
    "        if pd.isnull(value):\n",
    "            return np.nan\n",
    "        else:\n",
    "            return int(str(value[1]))\n",
    "    except ValueError:\n",
    "        return np.nan"
   ]
  },
  {
   "cell_type": "code",
   "execution_count": 38,
   "metadata": {},
   "outputs": [
    {
     "name": "stdout",
     "output_type": "stream",
     "text": [
      "The structure of variable wealth typology is as follows:\n",
      "5.0    223582\n",
      "2.0    190687\n",
      "4.0    189960\n",
      "1.0    119442\n",
      "3.0     68192\n",
      "Name: C_I_2015_WEALTH, dtype: int64\n",
      "\n",
      "The structure of variable lifestage typology is as follows:\n",
      "1.0    245053\n",
      "4.0    232776\n",
      "3.0    119692\n",
      "5.0    117043\n",
      "2.0     77299\n",
      "Name: C_I_2015_LIFESTAGE, dtype: int64\n"
     ]
    }
   ],
   "source": [
    "#printing the results\n",
    "below_lim_1['C_I_2015_WEALTH']=below_lim_1['CAMEO_INTL_2015'].apply(wealth_typology)\n",
    "below_lim_1['C_I_2015_LIFESTAGE']=below_lim_1['CAMEO_INTL_2015'].apply(lifestage_typology)\n",
    "\n",
    "print('The structure of variable wealth typology is as follows:\\n{}\\n'.format(below_lim_1['C_I_2015_WEALTH'].value_counts()))\n",
    "print('The structure of variable lifestage typology is as follows:\\n{}'.format(below_lim_1['C_I_2015_LIFESTAGE'].value_counts()))"
   ]
  },
  {
   "cell_type": "code",
   "execution_count": 39,
   "metadata": {},
   "outputs": [
    {
     "name": "stdout",
     "output_type": "stream",
     "text": [
      "Features successfully dropped.\n"
     ]
    }
   ],
   "source": [
    "below_lim_1=below_lim_1.drop(list_categorical_mixed,axis=1)\n",
    "print('Features successfully dropped.')"
   ]
  },
  {
   "cell_type": "markdown",
   "metadata": {},
   "source": [
    "#### Discussion 1.2.2: Engineer Mixed-Type Features\n",
    "\n",
    "(Double-click this cell and replace this text with your own text, reporting your findings and decisions regarding mixed-value features. Which ones did you keep, which did you drop, and what engineering steps did you perform?)\n",
    "\n",
    "**Answer**\n",
    "\n",
    "**Of the 6 features in the mixed-type feature, 2 features namely:'CAMEO_INTL_2015' and 'PRAEGENDE_JUGENDJAHRE' underwent engineering steps.**\n",
    "\n",
    "**For the 'PRAEGENDE_JUGENDJAHRE' creation of two new variables to capture the other two dimensions: an interval-type variable for decade, and a binary variable for movement was done and also for the 'CAMEO_INTL_2015' there was a break up of the two-digit codes by their 'tens'-place and 'ones'-place digits into two new ordinal variables.**\n",
    "\n",
    "**Then the features namely: 'LP_LEBENSPHASE_FEIN', 'LP_LEBENSPHASE_GROB', 'WOHNLAGE', 'PLZ8_BAUMAX', 'CAMEO_INTL_2015' and 'PRAEGENDE_JUGENDJAHRE' have been dropped, leaving behind the engineered features.**"
   ]
  },
  {
   "cell_type": "markdown",
   "metadata": {},
   "source": [
    "#### Step 1.2.3: Complete Feature Selection\n",
    "\n",
    "In order to finish this step up, you need to make sure that your data frame now only has the columns that you want to keep. To summarize, the dataframe should consist of the following:\n",
    "- All numeric, interval, and ordinal type columns from the original dataset.\n",
    "- Binary categorical features (all numerically-encoded).\n",
    "- Engineered features from other multi-level categorical features and mixed features.\n",
    "\n",
    "Make sure that for any new columns that you have engineered, that you've excluded the original columns from the final dataset. Otherwise, their values will interfere with the analysis later on the project. For example, you should not keep \"PRAEGENDE_JUGENDJAHRE\", since its values won't be useful for the algorithm: only the values derived from it in the engineered features you created should be retained. As a reminder, your data should only be from **the subset with few or no missing values**."
   ]
  },
  {
   "cell_type": "code",
   "execution_count": 40,
   "metadata": {},
   "outputs": [
    {
     "name": "stdout",
     "output_type": "stream",
     "text": [
      "Feature successfully dropped.\n",
      "rows 798061, columns 64\n"
     ]
    }
   ],
   "source": [
    "# Do whatever you need to in order to ensure that the dataframe only contains\n",
    "# the columns that should be passed to the algorithm functions.\n",
    "if 'row_missing' in below_lim_1.columns:\n",
    "    below_lim_1=below_lim_1.drop(['row_missing'],axis=1)\n",
    "    \n",
    "print('Feature successfully dropped.')\n",
    "print('rows {}, columns {}'.format(below_lim_1.shape[0],below_lim_1.shape[1]))"
   ]
  },
  {
   "cell_type": "markdown",
   "metadata": {},
   "source": [
    "### Step 1.3: Create a Cleaning Function\n",
    "\n",
    "Even though you've finished cleaning up the general population demographics data, it's important to look ahead to the future and realize that you'll need to perform the same cleaning steps on the customer demographics data. In this substep, complete the function below to execute the main feature selection, encoding, and re-engineering steps you performed above. Then, when it comes to looking at the customer data in Step 3, you can just run this function on that DataFrame to get the trimmed dataset in a single step."
   ]
  },
  {
   "cell_type": "code",
   "execution_count": 41,
   "metadata": {},
   "outputs": [],
   "source": [
    "def cleaning_data(data_f,data_f_info):\n",
    "    \"\"\"\n",
    "    Perform feature trimming, re-encoding, and engineering for demographics\n",
    "    data\n",
    "    \n",
    "    INPUT: Demographics DataFrame\n",
    "    OUTPUT: Trimmed and cleaned demographics DataFrame\n",
    "    \"\"\"\n",
    "    \n",
    "    #1. PREPROCESSING\n",
    "    \n",
    "    #1.1 Convert 'feat_info' from string to a list\n",
    "    data_f_info['missing_or_unknown']=data_f_info['missing_or_unknown'].apply(lambda x:x[1:-1].split(','))\n",
    "    \n",
    "    #1.2 Convert missing values to NaNs\n",
    "    for attr,miss_unkn_value in zip(data_f_info['attribute'],data_f_info['missing_or_unknown']):\n",
    "        if len(miss_unkn_value) and miss_unkn_value != ['']:\n",
    "            for value in miss_unkn_value:\n",
    "                if value.isnumeric() or value.lstrip('-').isnumeric():\n",
    "                    value=int(value)\n",
    "                data_f.loc[data_f[attr]==value,attr]=np.nan\n",
    "                \n",
    "    #CHECK: To find the total number of missing values after conversion to NaNs\n",
    "    missing_in_data_f=data_f.isnull().sum().sum()\n",
    "    print('Total missing values after conversion to NaNs is: {}'.format(missing_in_data_f))\n",
    "    \n",
    "    #1.3 Assessment of missing data in each column of the dataframe\n",
    "    total_missing_cols=data_f.isnull().sum()[data_f.isnull().sum()>0]\n",
    "    total_missing_cols=total_missing_cols[total_missing_cols>0]/[data_f.shape[0]]*100\n",
    "    \n",
    "    #1.4 Removing the outlier columns\n",
    "    outlier_col_removal=['AGER_TYP', 'GEBURTSJAHR', 'TITEL_KZ', 'ALTER_HH', 'KK_KUNDENTYP', 'KBA05_BAUMAX']\n",
    "    data_f.drop(outlier_col_removal,axis=1,inplace=True)\n",
    "    \n",
    "    #CHECK: Columns remaining after removing the outliers\n",
    "    print('Number of columns remaining after removing the outliers: {}'.format(data_f.shape[1]))\n",
    "    \n",
    "    #1.5 Assessment of missing data in each row of the dataframe\n",
    "    all_rows=data_f.isnull().sum(axis=1)\n",
    "    missing_data_rows=data_f.isnull().sum(axis=1)[data_f.isnull().sum(axis=1)>0]\n",
    "    missing_data_plt=missing_data_rows/(data_f.shape[1])*100\n",
    "    missing_data_plt.sort_values(ascending=False,inplace=True)\n",
    "    all_rows_plt=all_rows/(data_f.shape[1])   \n",
    "    data_f=data_f.assign(row_missing=pd.Series(all_rows_plt.values))\n",
    "        \n",
    "    #data split\n",
    "    #above_lim_1=data_f[data_f['row_missing']>=oulier_lim]\n",
    "    #below_lim_1=data_f[data_f['row_missing']<=outlier_lim]\n",
    "    #print('{} instances in above_lim_1 data split'.format(above_lim_1.shape[0]))\n",
    "    #print('{} instances in below_lim_1 data split'.format(below_lim_1.shape[0]))\n",
    "    \n",
    "    #1.6 Select and reencode features\n",
    "      # Removing the outlier columns in feat_info\n",
    "    data_f_info=data_f_info[data_f_info.attribute.isin(outlier_col_removal)==False]\n",
    "      # Re-Encode categorical features\n",
    "         #view of categorical features\n",
    "    list_categorical=data_f_info[data_f_info['type']=='categorical'].attribute.tolist()\n",
    "         #assessment of binary and multi-level subcategories\n",
    "    list_categorical_multi=[]\n",
    "    list_categorical_binary=[]\n",
    "    for feature in list_categorical:\n",
    "        if feature in data_f.columns.tolist():\n",
    "            if data_f[feature].nunique()>2:\n",
    "                list_categorical_multi.append(feature)\n",
    "            else:\n",
    "                list_categorical_multi.append(feature)\n",
    "                \n",
    "    #re-encoding\n",
    "    data_f_1=data_f.copy()\n",
    "    data_f_1['OST_WEST_KZ'].replace(['W','O'],[1,0],inplace=True)\n",
    "    data_f_1['ANREDE_KZ'].replace([2.0,1.0],[1,0],inplace=True)\n",
    "    data_f_1['VERS_TYP'].replace([2.0,1.0],[1,0],inplace=True)\n",
    "         \n",
    "        #drop the 'multi' subcategory\n",
    "    for feature in list_categorical_multi:\n",
    "        data_f_1=data_f_1.drop(feature,axis=1)\n",
    "        \n",
    "        \n",
    "    #1.7 Engineer mixed-type features\n",
    "    list_categorical_mixed=data_f_info[data_f_info['type']=='mixed'].attribute.tolist()\n",
    "    decade_var={\n",
    "        0:[1,2],\n",
    "        1:[3,4],\n",
    "        2:[5,6,7],\n",
    "        3:[8,9],\n",
    "        4:[10,11,12,13],\n",
    "        5:[14,15]\n",
    "            }\n",
    "    \n",
    "    def decade_features(value):\n",
    "        try:\n",
    "            for feature,values in decade_var.items():\n",
    "                if value in values:\n",
    "                    return feature\n",
    "        except ValueError:\n",
    "            return np.nan\n",
    "        \n",
    "    movement_var={\n",
    "        0:[2,4,6,7,9,11,13,15],\n",
    "        1:[1,3,5,8,10,12,14]\n",
    "    }\n",
    "    \n",
    "    def movement_features(value):\n",
    "        try:\n",
    "            for feature,values in movement_var.items():\n",
    "                if value in values:\n",
    "                    return feature\n",
    "            else:\n",
    "                return 0\n",
    "        except ValueError:\n",
    "            return np.nan\n",
    "        \n",
    "    data_f_1['P_J_MOVEMENT_FEATURE']=data_f_1['PRAEGENDE_JUGENDJAHRE'].apply(movement_features)\n",
    "    data_f_1['P_J_DECADE_FEATURE']=data_f_1['PRAEGENDE_JUGENDJAHRE'].apply(decade_features)\n",
    "    \n",
    "    def wealth_typology(value):\n",
    "        try:\n",
    "            if pd.isnull(value):\n",
    "                return np.nan\n",
    "            else:\n",
    "                return int(str(value)[0])\n",
    "        except ValueError:\n",
    "            return np.nan\n",
    "        \n",
    "    def lifestage_typology(value):\n",
    "        try:\n",
    "            if pd.isnull(value):\n",
    "                return np.nan\n",
    "            else:\n",
    "                return int(str(value)[1])\n",
    "        except ValueError:\n",
    "            return np.nan\n",
    "        \n",
    "    data_f_1['C_I_2015_WEALTH']=data_f_1['CAMEO_INTL_2015'].apply(wealth_typology)\n",
    "    data_f_1['C_I_2015_LIFESTAGE']=data_f_1['CAMEO_INTL_2015'].apply(lifestage_typology)\n",
    "    \n",
    "    data_f_1=data_f_1.drop(list_categorical_mixed,axis=1)\n",
    "    \n",
    "    #complete feature selection\n",
    "    if 'row_missing' in data_f_1.columns:\n",
    "        data_f_1=data_f_1.drop(['row_missing'],axis=1)\n",
    "            \n",
    "    #check final of rows and columns of the dataframe\n",
    "    print('There are {} row and {} columns after passing the dataframe to the cleaning function'.format(data_f_1.shape[0],data_f_1.shape[1]))\n",
    "    "
   ]
  },
  {
   "cell_type": "markdown",
   "metadata": {},
   "source": [
    "## Step 2: Feature Transformation\n",
    "\n",
    "### Step 2.1: Apply Feature Scaling\n",
    "\n",
    "Before we apply dimensionality reduction techniques to the data, we need to perform feature scaling so that the principal component vectors are not influenced by the natural differences in scale for features. Starting from this part of the project, you'll want to keep an eye on the [API reference page for sklearn](http://scikit-learn.org/stable/modules/classes.html) to help you navigate to all of the classes and functions that you'll need. In this substep, you'll need to check the following:\n",
    "\n",
    "- sklearn requires that data not have missing values in order for its estimators to work properly. So, before applying the scaler to your data, make sure that you've cleaned the DataFrame of the remaining missing values. This can be as simple as just removing all data points with missing data, or applying an [Imputer](https://scikit-learn.org/0.16/modules/generated/sklearn.preprocessing.Imputer.html) to replace all missing values. You might also try a more complicated procedure where you temporarily remove missing values in order to compute the scaling parameters before re-introducing those missing values and applying imputation. Think about how much missing data you have and what possible effects each approach might have on your analysis, and justify your decision in the discussion section below.\n",
    "- For the actual scaling function, a [StandardScaler](http://scikit-learn.org/stable/modules/generated/sklearn.preprocessing.StandardScaler.html) instance is suggested, scaling each feature to mean 0 and standard deviation 1.\n",
    "- For these classes, you can make use of the `.fit_transform()` method to both fit a procedure to the data as well as apply the transformation to the data at the same time. Don't forget to keep the fit sklearn objects handy, since you'll be applying them to the customer demographics data towards the end of the project."
   ]
  },
  {
   "cell_type": "code",
   "execution_count": 42,
   "metadata": {},
   "outputs": [
    {
     "name": "stdout",
     "output_type": "stream",
     "text": [
      "The total number of missing values is: 734506\n",
      "\n",
      "Overview of the missing values is:\n",
      " ALTERSKATEGORIE_GROB     2803\n",
      "HEALTH_TYP              36721\n",
      "RETOURTYP_BK_S           4745\n",
      "VERS_TYP                36721\n",
      "W_KEIT_KIND_HH          59302\n",
      "ANZ_HAUSHALTE_AKTIV      6460\n",
      "ANZ_HH_TITEL             3857\n",
      "KONSUMNAEHE                71\n",
      "KBA05_ANTG1             40164\n",
      "KBA05_ANTG2             40164\n",
      "KBA05_ANTG3             40164\n",
      "KBA05_ANTG4             40164\n",
      "KBA05_GBZ               40164\n",
      "BALLRAUM                  592\n",
      "EWDICHTE                  592\n",
      "INNENSTADT                592\n",
      "GEBAEUDETYP_RASTER          7\n",
      "KKK                     64906\n",
      "MOBI_REGIO              40164\n",
      "ONLINE_AFFINITAET        4745\n",
      "REGIOTYP                64906\n",
      "KBA13_ANZAHL_PKW        12641\n",
      "PLZ8_ANTG1              23355\n",
      "PLZ8_ANTG2              23355\n",
      "PLZ8_ANTG3              23355\n",
      "PLZ8_ANTG4              23355\n",
      "PLZ8_HHZ                23355\n",
      "PLZ8_GBZ                23355\n",
      "ARBEIT                   4227\n",
      "ORTSGR_KLS9              4126\n",
      "RELAT_AB                 4227\n",
      "P_J_DECADE_FEATURE      28755\n",
      "C_I_2015_WEALTH          6198\n",
      "C_I_2015_LIFESTAGE       6198\n",
      "dtype: int64\n"
     ]
    }
   ],
   "source": [
    "# If you've not yet cleaned the dataset of all NaN values, then investigate and\n",
    "# do that now.\n",
    "print('The total number of missing values is: {}\\n'.format(below_lim_1.isnull().sum().sum()))\n",
    "print('Overview of the missing values is:\\n {}'.format(below_lim_1.isnull().sum()[below_lim_1.isnull().sum()>0]))\n"
   ]
  },
  {
   "cell_type": "code",
   "execution_count": 43,
   "metadata": {},
   "outputs": [
    {
     "name": "stdout",
     "output_type": "stream",
     "text": [
      "Overview of the missing values after interpolation method is:\n",
      " Series([], dtype: int64)\n"
     ]
    }
   ],
   "source": [
    "#using interpolation method to replace the missing values\n",
    "for clm in below_lim_1.columns:\n",
    "    below_lim_1[clm]=below_lim_1[clm].interpolate(limit_direction='both')\n",
    "    \n",
    "print('Overview of the missing values after interpolation method is:\\n {}'.format(below_lim_1.isnull().sum()[below_lim_1.isnull().sum()>0]))"
   ]
  },
  {
   "cell_type": "code",
   "execution_count": 44,
   "metadata": {},
   "outputs": [],
   "source": [
    "# Apply feature scaling to the general population demographics data.\n",
    "below_lim_scaled=StandardScaler().fit_transform(below_lim_1)\n",
    "\n",
    "#convert to a dataframe so as to view its properties\n",
    "below_lim_scaled=pd.DataFrame(below_lim_scaled,index=below_lim_1.index,columns=below_lim_1.columns)\n"
   ]
  },
  {
   "cell_type": "code",
   "execution_count": 45,
   "metadata": {},
   "outputs": [
    {
     "data": {
      "text/html": [
       "<div>\n",
       "<style scoped>\n",
       "    .dataframe tbody tr th:only-of-type {\n",
       "        vertical-align: middle;\n",
       "    }\n",
       "\n",
       "    .dataframe tbody tr th {\n",
       "        vertical-align: top;\n",
       "    }\n",
       "\n",
       "    .dataframe thead th {\n",
       "        text-align: right;\n",
       "    }\n",
       "</style>\n",
       "<table border=\"1\" class=\"dataframe\">\n",
       "  <thead>\n",
       "    <tr style=\"text-align: right;\">\n",
       "      <th></th>\n",
       "      <th>ALTERSKATEGORIE_GROB</th>\n",
       "      <th>ANREDE_KZ</th>\n",
       "      <th>FINANZ_MINIMALIST</th>\n",
       "      <th>FINANZ_SPARER</th>\n",
       "      <th>FINANZ_VORSORGER</th>\n",
       "      <th>FINANZ_ANLEGER</th>\n",
       "      <th>FINANZ_UNAUFFAELLIGER</th>\n",
       "      <th>FINANZ_HAUSBAUER</th>\n",
       "      <th>GREEN_AVANTGARDE</th>\n",
       "      <th>HEALTH_TYP</th>\n",
       "      <th>...</th>\n",
       "      <th>PLZ8_ANTG4</th>\n",
       "      <th>PLZ8_HHZ</th>\n",
       "      <th>PLZ8_GBZ</th>\n",
       "      <th>ARBEIT</th>\n",
       "      <th>ORTSGR_KLS9</th>\n",
       "      <th>RELAT_AB</th>\n",
       "      <th>P_J_MOVEMENT_FEATURE</th>\n",
       "      <th>P_J_DECADE_FEATURE</th>\n",
       "      <th>C_I_2015_WEALTH</th>\n",
       "      <th>C_I_2015_LIFESTAGE</th>\n",
       "    </tr>\n",
       "  </thead>\n",
       "  <tbody>\n",
       "    <tr>\n",
       "      <th>count</th>\n",
       "      <td>7.980610e+05</td>\n",
       "      <td>7.980610e+05</td>\n",
       "      <td>7.980610e+05</td>\n",
       "      <td>7.980610e+05</td>\n",
       "      <td>7.980610e+05</td>\n",
       "      <td>7.980610e+05</td>\n",
       "      <td>7.980610e+05</td>\n",
       "      <td>7.980610e+05</td>\n",
       "      <td>7.980610e+05</td>\n",
       "      <td>7.980610e+05</td>\n",
       "      <td>...</td>\n",
       "      <td>7.980610e+05</td>\n",
       "      <td>7.980610e+05</td>\n",
       "      <td>7.980610e+05</td>\n",
       "      <td>7.980610e+05</td>\n",
       "      <td>7.980610e+05</td>\n",
       "      <td>7.980610e+05</td>\n",
       "      <td>7.980610e+05</td>\n",
       "      <td>7.980610e+05</td>\n",
       "      <td>7.980610e+05</td>\n",
       "      <td>7.980610e+05</td>\n",
       "    </tr>\n",
       "    <tr>\n",
       "      <th>mean</th>\n",
       "      <td>5.520086e-17</td>\n",
       "      <td>-4.195710e-17</td>\n",
       "      <td>-1.162868e-16</td>\n",
       "      <td>1.379843e-16</td>\n",
       "      <td>1.217268e-16</td>\n",
       "      <td>-6.495004e-17</td>\n",
       "      <td>-1.572512e-16</td>\n",
       "      <td>-1.217980e-16</td>\n",
       "      <td>-3.712703e-18</td>\n",
       "      <td>1.681845e-16</td>\n",
       "      <td>...</td>\n",
       "      <td>-6.819977e-18</td>\n",
       "      <td>1.650417e-16</td>\n",
       "      <td>-9.441127e-17</td>\n",
       "      <td>5.787186e-18</td>\n",
       "      <td>5.986177e-17</td>\n",
       "      <td>1.146976e-16</td>\n",
       "      <td>5.106969e-17</td>\n",
       "      <td>-9.505231e-17</td>\n",
       "      <td>2.260564e-17</td>\n",
       "      <td>-7.193918e-17</td>\n",
       "    </tr>\n",
       "    <tr>\n",
       "      <th>std</th>\n",
       "      <td>1.000001e+00</td>\n",
       "      <td>1.000001e+00</td>\n",
       "      <td>1.000001e+00</td>\n",
       "      <td>1.000001e+00</td>\n",
       "      <td>1.000001e+00</td>\n",
       "      <td>1.000001e+00</td>\n",
       "      <td>1.000001e+00</td>\n",
       "      <td>1.000001e+00</td>\n",
       "      <td>1.000001e+00</td>\n",
       "      <td>1.000001e+00</td>\n",
       "      <td>...</td>\n",
       "      <td>1.000001e+00</td>\n",
       "      <td>1.000001e+00</td>\n",
       "      <td>1.000001e+00</td>\n",
       "      <td>1.000001e+00</td>\n",
       "      <td>1.000001e+00</td>\n",
       "      <td>1.000001e+00</td>\n",
       "      <td>1.000001e+00</td>\n",
       "      <td>1.000001e+00</td>\n",
       "      <td>1.000001e+00</td>\n",
       "      <td>1.000001e+00</td>\n",
       "    </tr>\n",
       "    <tr>\n",
       "      <th>min</th>\n",
       "      <td>-1.764426e+00</td>\n",
       "      <td>-1.043935e+00</td>\n",
       "      <td>-1.494594e+00</td>\n",
       "      <td>-1.155518e+00</td>\n",
       "      <td>-1.766980e+00</td>\n",
       "      <td>-1.249985e+00</td>\n",
       "      <td>-1.184933e+00</td>\n",
       "      <td>-1.501377e+00</td>\n",
       "      <td>-5.304094e-01</td>\n",
       "      <td>-1.606548e+00</td>\n",
       "      <td>...</td>\n",
       "      <td>-9.670167e-01</td>\n",
       "      <td>-2.700045e+00</td>\n",
       "      <td>-2.156816e+00</td>\n",
       "      <td>-2.170570e+00</td>\n",
       "      <td>-1.866290e+00</td>\n",
       "      <td>-1.524078e+00</td>\n",
       "      <td>-1.706589e+00</td>\n",
       "      <td>-2.307517e+00</td>\n",
       "      <td>-1.546976e+00</td>\n",
       "      <td>-1.264290e+00</td>\n",
       "    </tr>\n",
       "    <tr>\n",
       "      <th>25%</th>\n",
       "      <td>-7.816326e-01</td>\n",
       "      <td>-1.043935e+00</td>\n",
       "      <td>-7.686810e-01</td>\n",
       "      <td>-1.155518e+00</td>\n",
       "      <td>-1.040692e+00</td>\n",
       "      <td>-1.249985e+00</td>\n",
       "      <td>-1.184933e+00</td>\n",
       "      <td>-7.912046e-01</td>\n",
       "      <td>-5.304094e-01</td>\n",
       "      <td>-2.669205e-01</td>\n",
       "      <td>...</td>\n",
       "      <td>-9.670167e-01</td>\n",
       "      <td>-6.326904e-01</td>\n",
       "      <td>-3.455392e-01</td>\n",
       "      <td>-1.661031e-01</td>\n",
       "      <td>-5.620772e-01</td>\n",
       "      <td>-7.881820e-01</td>\n",
       "      <td>-1.706589e+00</td>\n",
       "      <td>-9.229098e-01</td>\n",
       "      <td>-8.629210e-01</td>\n",
       "      <td>-1.264290e+00</td>\n",
       "    </tr>\n",
       "    <tr>\n",
       "      <th>50%</th>\n",
       "      <td>2.011604e-01</td>\n",
       "      <td>9.579144e-01</td>\n",
       "      <td>-4.276828e-02</td>\n",
       "      <td>1.912029e-01</td>\n",
       "      <td>4.118838e-01</td>\n",
       "      <td>1.079899e-01</td>\n",
       "      <td>-4.704071e-01</td>\n",
       "      <td>-8.103182e-02</td>\n",
       "      <td>-5.304094e-01</td>\n",
       "      <td>-2.669205e-01</td>\n",
       "      <td>...</td>\n",
       "      <td>4.176634e-01</td>\n",
       "      <td>-1.158517e-01</td>\n",
       "      <td>-3.455392e-01</td>\n",
       "      <td>-1.661031e-01</td>\n",
       "      <td>-1.273395e-01</td>\n",
       "      <td>-5.228611e-02</td>\n",
       "      <td>5.859640e-01</td>\n",
       "      <td>-2.306062e-01</td>\n",
       "      <td>5.051899e-01</td>\n",
       "      <td>8.524636e-02</td>\n",
       "    </tr>\n",
       "    <tr>\n",
       "      <th>75%</th>\n",
       "      <td>1.183953e+00</td>\n",
       "      <td>9.579144e-01</td>\n",
       "      <td>6.831445e-01</td>\n",
       "      <td>8.645632e-01</td>\n",
       "      <td>1.138172e+00</td>\n",
       "      <td>7.869776e-01</td>\n",
       "      <td>9.586455e-01</td>\n",
       "      <td>6.291410e-01</td>\n",
       "      <td>-5.304094e-01</td>\n",
       "      <td>1.072707e+00</td>\n",
       "      <td>...</td>\n",
       "      <td>4.176634e-01</td>\n",
       "      <td>4.009869e-01</td>\n",
       "      <td>5.600989e-01</td>\n",
       "      <td>8.361303e-01</td>\n",
       "      <td>7.421358e-01</td>\n",
       "      <td>6.836098e-01</td>\n",
       "      <td>5.859640e-01</td>\n",
       "      <td>1.154001e+00</td>\n",
       "      <td>1.189245e+00</td>\n",
       "      <td>7.600144e-01</td>\n",
       "    </tr>\n",
       "    <tr>\n",
       "      <th>max</th>\n",
       "      <td>1.183953e+00</td>\n",
       "      <td>9.579144e-01</td>\n",
       "      <td>1.409057e+00</td>\n",
       "      <td>1.537924e+00</td>\n",
       "      <td>1.138172e+00</td>\n",
       "      <td>1.465965e+00</td>\n",
       "      <td>1.673172e+00</td>\n",
       "      <td>1.339314e+00</td>\n",
       "      <td>1.885336e+00</td>\n",
       "      <td>1.072707e+00</td>\n",
       "      <td>...</td>\n",
       "      <td>1.802344e+00</td>\n",
       "      <td>1.434664e+00</td>\n",
       "      <td>1.465737e+00</td>\n",
       "      <td>1.838364e+00</td>\n",
       "      <td>1.611611e+00</td>\n",
       "      <td>1.419506e+00</td>\n",
       "      <td>5.859640e-01</td>\n",
       "      <td>1.154001e+00</td>\n",
       "      <td>1.189245e+00</td>\n",
       "      <td>1.434782e+00</td>\n",
       "    </tr>\n",
       "  </tbody>\n",
       "</table>\n",
       "<p>8 rows × 64 columns</p>\n",
       "</div>"
      ],
      "text/plain": [
       "       ALTERSKATEGORIE_GROB     ANREDE_KZ  FINANZ_MINIMALIST  FINANZ_SPARER  \\\n",
       "count          7.980610e+05  7.980610e+05       7.980610e+05   7.980610e+05   \n",
       "mean           5.520086e-17 -4.195710e-17      -1.162868e-16   1.379843e-16   \n",
       "std            1.000001e+00  1.000001e+00       1.000001e+00   1.000001e+00   \n",
       "min           -1.764426e+00 -1.043935e+00      -1.494594e+00  -1.155518e+00   \n",
       "25%           -7.816326e-01 -1.043935e+00      -7.686810e-01  -1.155518e+00   \n",
       "50%            2.011604e-01  9.579144e-01      -4.276828e-02   1.912029e-01   \n",
       "75%            1.183953e+00  9.579144e-01       6.831445e-01   8.645632e-01   \n",
       "max            1.183953e+00  9.579144e-01       1.409057e+00   1.537924e+00   \n",
       "\n",
       "       FINANZ_VORSORGER  FINANZ_ANLEGER  FINANZ_UNAUFFAELLIGER  \\\n",
       "count      7.980610e+05    7.980610e+05           7.980610e+05   \n",
       "mean       1.217268e-16   -6.495004e-17          -1.572512e-16   \n",
       "std        1.000001e+00    1.000001e+00           1.000001e+00   \n",
       "min       -1.766980e+00   -1.249985e+00          -1.184933e+00   \n",
       "25%       -1.040692e+00   -1.249985e+00          -1.184933e+00   \n",
       "50%        4.118838e-01    1.079899e-01          -4.704071e-01   \n",
       "75%        1.138172e+00    7.869776e-01           9.586455e-01   \n",
       "max        1.138172e+00    1.465965e+00           1.673172e+00   \n",
       "\n",
       "       FINANZ_HAUSBAUER  GREEN_AVANTGARDE    HEALTH_TYP         ...          \\\n",
       "count      7.980610e+05      7.980610e+05  7.980610e+05         ...           \n",
       "mean      -1.217980e-16     -3.712703e-18  1.681845e-16         ...           \n",
       "std        1.000001e+00      1.000001e+00  1.000001e+00         ...           \n",
       "min       -1.501377e+00     -5.304094e-01 -1.606548e+00         ...           \n",
       "25%       -7.912046e-01     -5.304094e-01 -2.669205e-01         ...           \n",
       "50%       -8.103182e-02     -5.304094e-01 -2.669205e-01         ...           \n",
       "75%        6.291410e-01     -5.304094e-01  1.072707e+00         ...           \n",
       "max        1.339314e+00      1.885336e+00  1.072707e+00         ...           \n",
       "\n",
       "         PLZ8_ANTG4      PLZ8_HHZ      PLZ8_GBZ        ARBEIT   ORTSGR_KLS9  \\\n",
       "count  7.980610e+05  7.980610e+05  7.980610e+05  7.980610e+05  7.980610e+05   \n",
       "mean  -6.819977e-18  1.650417e-16 -9.441127e-17  5.787186e-18  5.986177e-17   \n",
       "std    1.000001e+00  1.000001e+00  1.000001e+00  1.000001e+00  1.000001e+00   \n",
       "min   -9.670167e-01 -2.700045e+00 -2.156816e+00 -2.170570e+00 -1.866290e+00   \n",
       "25%   -9.670167e-01 -6.326904e-01 -3.455392e-01 -1.661031e-01 -5.620772e-01   \n",
       "50%    4.176634e-01 -1.158517e-01 -3.455392e-01 -1.661031e-01 -1.273395e-01   \n",
       "75%    4.176634e-01  4.009869e-01  5.600989e-01  8.361303e-01  7.421358e-01   \n",
       "max    1.802344e+00  1.434664e+00  1.465737e+00  1.838364e+00  1.611611e+00   \n",
       "\n",
       "           RELAT_AB  P_J_MOVEMENT_FEATURE  P_J_DECADE_FEATURE  \\\n",
       "count  7.980610e+05          7.980610e+05        7.980610e+05   \n",
       "mean   1.146976e-16          5.106969e-17       -9.505231e-17   \n",
       "std    1.000001e+00          1.000001e+00        1.000001e+00   \n",
       "min   -1.524078e+00         -1.706589e+00       -2.307517e+00   \n",
       "25%   -7.881820e-01         -1.706589e+00       -9.229098e-01   \n",
       "50%   -5.228611e-02          5.859640e-01       -2.306062e-01   \n",
       "75%    6.836098e-01          5.859640e-01        1.154001e+00   \n",
       "max    1.419506e+00          5.859640e-01        1.154001e+00   \n",
       "\n",
       "       C_I_2015_WEALTH  C_I_2015_LIFESTAGE  \n",
       "count     7.980610e+05        7.980610e+05  \n",
       "mean      2.260564e-17       -7.193918e-17  \n",
       "std       1.000001e+00        1.000001e+00  \n",
       "min      -1.546976e+00       -1.264290e+00  \n",
       "25%      -8.629210e-01       -1.264290e+00  \n",
       "50%       5.051899e-01        8.524636e-02  \n",
       "75%       1.189245e+00        7.600144e-01  \n",
       "max       1.189245e+00        1.434782e+00  \n",
       "\n",
       "[8 rows x 64 columns]"
      ]
     },
     "execution_count": 45,
     "metadata": {},
     "output_type": "execute_result"
    }
   ],
   "source": [
    "below_lim_scaled.describe()"
   ]
  },
  {
   "cell_type": "markdown",
   "metadata": {},
   "source": [
    "### Discussion 2.1: Apply Feature Scaling\n",
    "\n",
    "(Double-click this cell and replace this text with your own text, reporting your decisions regarding feature scaling.)\n",
    "\n",
    "**Answer**\n",
    "\n",
    "**First of all, in this section, all the missing values have been filled with the interpolation method; making it possible to apply the sklearn feature scaling technique. The features have then been scaled to a standard deviation of 1 and the average to 0.**"
   ]
  },
  {
   "cell_type": "markdown",
   "metadata": {},
   "source": [
    "### Step 2.2: Perform Dimensionality Reduction\n",
    "\n",
    "On your scaled data, you are now ready to apply dimensionality reduction techniques.\n",
    "\n",
    "- Use sklearn's [PCA](http://scikit-learn.org/stable/modules/generated/sklearn.decomposition.PCA.html) class to apply principal component analysis on the data, thus finding the vectors of maximal variance in the data. To start, you should not set any parameters (so all components are computed) or set a number of components that is at least half the number of features (so there's enough features to see the general trend in variability).\n",
    "- Check out the ratio of variance explained by each principal component as well as the cumulative variance explained. Try plotting the cumulative or sequential values using matplotlib's [`plot()`](https://matplotlib.org/api/_as_gen/matplotlib.pyplot.plot.html) function. Based on what you find, select a value for the number of transformed features you'll retain for the clustering part of the project.\n",
    "- Once you've made a choice for the number of components to keep, make sure you re-fit a PCA instance to perform the decided-on transformation."
   ]
  },
  {
   "cell_type": "code",
   "execution_count": 46,
   "metadata": {},
   "outputs": [],
   "source": [
    "# Apply PCA to the data.\n",
    "pca=PCA()\n",
    "below_lim_pca=pca.fit_transform(below_lim_scaled)"
   ]
  },
  {
   "cell_type": "code",
   "execution_count": 47,
   "metadata": {},
   "outputs": [
    {
     "data": {
      "image/png": "[encoded data removed]",
      "text/plain": [
       "<matplotlib.figure.Figure at 0x7fcc67fbf320>"
      ]
     },
     "metadata": {
      "needs_background": "light"
     },
     "output_type": "display_data"
    }
   ],
   "source": [
    "# Investigate the variance accounted for by each principal component.\n",
    "exp=pca.explained_variance_ratio_\n",
    "cse=np.cumsum(exp)\n",
    "\n",
    "#plot\n",
    "plt.figure(figsize=(15,10))\n",
    "plt.bar(range(0,len(exp)),exp,alpha=0.5,align='center',label='individual explained variance')\n",
    "plt.step(range(0,len(cse)),cse,where='mid',label='cumulative explained variance')\n",
    "plt.ylabel('variance')\n",
    "plt.xlabel('principal components')\n",
    "plt.title('showing plot of variance against principal comonents')\n",
    "plt.legend(loc='best')\n",
    "plt.grid(True)\n",
    "plt.show()\n"
   ]
  },
  {
   "cell_type": "code",
   "execution_count": 48,
   "metadata": {},
   "outputs": [],
   "source": [
    "# Re-apply PCA to the data while selecting for number of components to retain.\n",
    "pca=PCA(n_components=30,random_state=700)\n",
    "below_lim_pca=pca.fit_transform(below_lim_scaled)"
   ]
  },
  {
   "cell_type": "markdown",
   "metadata": {},
   "source": [
    "### Discussion 2.2: Perform Dimensionality Reduction\n",
    "\n",
    "(Double-click this cell and replace this text with your own text, reporting your findings and decisions regarding dimensionality reduction. How many principal components / transformed features are you retaining for the next step of the analysis?)\n",
    "\n",
    "**Answer**\n",
    "\n",
    "**A plot showing the variance accounted for by each principal component is used in this case to determine the number of components to be used for this case, which in this case have been reduced to 30 principal components which account for a variance of approximately 87%.**"
   ]
  },
  {
   "cell_type": "markdown",
   "metadata": {},
   "source": [
    "### Step 2.3: Interpret Principal Components\n",
    "\n",
    "Now that we have our transformed principal components, it's a nice idea to check out the weight of each variable on the first few components to see if they can be interpreted in some fashion.\n",
    "\n",
    "As a reminder, each principal component is a unit vector that points in the direction of highest variance (after accounting for the variance captured by earlier principal components). The further a weight is from zero, the more the principal component is in the direction of the corresponding feature. If two features have large weights of the same sign (both positive or both negative), then increases in one tend expect to be associated with increases in the other. To contrast, features with different signs can be expected to show a negative correlation: increases in one variable should result in a decrease in the other.\n",
    "\n",
    "- To investigate the features, you should map each weight to their corresponding feature name, then sort the features according to weight. The most interesting features for each principal component, then, will be those at the beginning and end of the sorted list. Use the data dictionary document to help you understand these most prominent features, their relationships, and what a positive or negative value on the principal component might indicate.\n",
    "- You should investigate and interpret feature associations from the first three principal components in this substep. To help facilitate this, you should write a function that you can call at any time to print the sorted list of feature weights, for the *i*-th principal component. This might come in handy in the next step of the project, when you interpret the tendencies of the discovered clusters."
   ]
  },
  {
   "cell_type": "code",
   "execution_count": 49,
   "metadata": {},
   "outputs": [
    {
     "data": {
      "image/png": "[encoded data removed]",
      "text/plain": [
       "<matplotlib.figure.Figure at 0x7fcc6a2850f0>"
      ]
     },
     "metadata": {
      "needs_background": "light"
     },
     "output_type": "display_data"
    },
    {
     "data": {
      "text/plain": [
       "PLZ8_ANTG3            0.2282\n",
       "PLZ8_ANTG4            0.2213\n",
       "C_I_2015_WEALTH       0.2079\n",
       "HH_EINKOMMEN_SCORE    0.2038\n",
       "ORTSGR_KLS9           0.1994\n",
       "KBA05_GBZ            -0.2181\n",
       "FINANZ_MINIMALIST    -0.2184\n",
       "KBA05_ANTG1          -0.2261\n",
       "PLZ8_ANTG1           -0.2276\n",
       "MOBI_REGIO           -0.2428\n",
       "Name: 0, dtype: float64"
      ]
     },
     "execution_count": 49,
     "metadata": {},
     "output_type": "execute_result"
    }
   ],
   "source": [
    "# Map weights for the first principal component to corresponding feature names\n",
    "# and then print the linked values, sorted by weight.\n",
    "# HINT: Try defining a function here or in a new cell that you can reuse in the\n",
    "# other cells.\n",
    "def interpret_pc(data_f,pca,comp_count):\n",
    "    pc_interpret=pd.DataFrame(np.round(pca.components_,4),columns=data_f.keys()).iloc[comp_count-1]\n",
    "    pc_interpret.sort_values(ascending=False,inplace=True)\n",
    "    pc_interpret=pd.concat([pc_interpret.head(5),pc_interpret.tail(5)])\n",
    "    \n",
    "    #plotting the results\n",
    "    pc_interpret.plot.bar(figsize=(10,5),title='Interpretation of principal component')\n",
    "    plt.grid(True)\n",
    "    plt.show()\n",
    "    \n",
    "    return pc_interpret\n",
    "\n",
    "#component 1\n",
    "interpret_pc(below_lim_scaled,pca,1)\n",
    "\n"
   ]
  },
  {
   "cell_type": "code",
   "execution_count": 50,
   "metadata": {
    "scrolled": false
   },
   "outputs": [
    {
     "data": {
      "image/png": "[encoded data removed]",
      "text/plain": [
       "<matplotlib.figure.Figure at 0x7fcc65f7c1d0>"
      ]
     },
     "metadata": {
      "needs_background": "light"
     },
     "output_type": "display_data"
    },
    {
     "data": {
      "text/plain": [
       "ALTERSKATEGORIE_GROB    0.2609\n",
       "FINANZ_VORSORGER        0.2339\n",
       "SEMIO_ERL               0.2313\n",
       "SEMIO_LUST              0.1842\n",
       "RETOURTYP_BK_S          0.1634\n",
       "SEMIO_PFLICHT          -0.2288\n",
       "SEMIO_TRADV            -0.2320\n",
       "FINANZ_SPARER          -0.2371\n",
       "P_J_DECADE_FEATURE     -0.2502\n",
       "SEMIO_REL              -0.2557\n",
       "Name: 1, dtype: float64"
      ]
     },
     "execution_count": 50,
     "metadata": {},
     "output_type": "execute_result"
    }
   ],
   "source": [
    "# Map weights for the second principal component to corresponding feature names\n",
    "# and then print the linked values, sorted by weight.\n",
    "interpret_pc(below_lim_scaled,pca,2)"
   ]
  },
  {
   "cell_type": "code",
   "execution_count": 51,
   "metadata": {
    "scrolled": false
   },
   "outputs": [
    {
     "data": {
      "image/png": "[encoded data removed]",
      "text/plain": [
       "<matplotlib.figure.Figure at 0x7fcc67ef7908>"
      ]
     },
     "metadata": {
      "needs_background": "light"
     },
     "output_type": "display_data"
    },
    {
     "data": {
      "text/plain": [
       "SEMIO_VERT           0.3455\n",
       "SEMIO_SOZ            0.2623\n",
       "SEMIO_FAM            0.2499\n",
       "SEMIO_KULT           0.2354\n",
       "FINANZ_MINIMALIST    0.1564\n",
       "SEMIO_RAT           -0.2186\n",
       "SEMIO_KRIT          -0.2763\n",
       "SEMIO_DOM           -0.3151\n",
       "SEMIO_KAEM          -0.3377\n",
       "ANREDE_KZ           -0.3691\n",
       "Name: 2, dtype: float64"
      ]
     },
     "execution_count": 51,
     "metadata": {},
     "output_type": "execute_result"
    }
   ],
   "source": [
    "# Map weights for the third principal component to corresponding feature names\n",
    "# and then print the linked values, sorted by weight.\n",
    "interpret_pc(below_lim_scaled,pca,3)"
   ]
  },
  {
   "cell_type": "markdown",
   "metadata": {},
   "source": [
    "### Discussion 2.3: Interpret Principal Components\n",
    "\n",
    "(Double-click this cell and replace this text with your own text, reporting your observations from detailed investigation of the first few principal components generated. Can we interpret positive and negative values from them in a meaningful way?)\n",
    "\n",
    "**Answer**\n",
    "\n",
    "**Based on the first cluster points, on the most positive side is 'PLZ8_ANTG3' and the most negative side is 'MOBI REGIO'**\n",
    "\n",
    "**Based on the second cluster points, on the most +veside is 'ALTERSKATEGORIE_GROB' and the most negative side is 'SEMIO_REL'**\n",
    "\n",
    "**Based on the third cluster points, on the most positive side is 'SEMIO_VERT' and the most negative side is 'ANREDE_KZ'**"
   ]
  },
  {
   "cell_type": "markdown",
   "metadata": {},
   "source": [
    "## Step 3: Clustering\n",
    "\n",
    "### Step 3.1: Apply Clustering to General Population\n",
    "\n",
    "You've assessed and cleaned the demographics data, then scaled and transformed them. Now, it's time to see how the data clusters in the principal components space. In this substep, you will apply k-means clustering to the dataset and use the average within-cluster distances from each point to their assigned cluster's centroid to decide on a number of clusters to keep.\n",
    "\n",
    "- Use sklearn's [KMeans](http://scikit-learn.org/stable/modules/generated/sklearn.cluster.KMeans.html#sklearn.cluster.KMeans) class to perform k-means clustering on the PCA-transformed data.\n",
    "- Then, compute the average difference from each point to its assigned cluster's center. **Hint**: The KMeans object's `.score()` method might be useful here, but note that in sklearn, scores tend to be defined so that larger is better. Try applying it to a small, toy dataset, or use an internet search to help your understanding.\n",
    "- Perform the above two steps for a number of different cluster counts. You can then see how the average distance decreases with an increasing number of clusters. However, each additional cluster provides a smaller net benefit. Use this fact to select a final number of clusters in which to group the data. **Warning**: because of the large size of the dataset, it can take a long time for the algorithm to resolve. The more clusters to fit, the longer the algorithm will take. You should test for cluster counts through at least 10 clusters to get the full picture, but you shouldn't need to test for a number of clusters above about 30.\n",
    "- Once you've selected a final number of clusters to use, re-fit a KMeans instance to perform the clustering operation. Make sure that you also obtain the cluster assignments for the general demographics data, since you'll be using them in the final Step 3.3."
   ]
  },
  {
   "cell_type": "code",
   "execution_count": 52,
   "metadata": {},
   "outputs": [],
   "source": [
    "# Over a number of different cluster counts...\n",
    "def kmeans_clustering(data_f,center):\n",
    "    # run k-means clustering on the data and...\n",
    "    kmeans_model=KMeans(n_clusters=center,random_state=0).fit(data_f)\n",
    "    # compute the average within-cluster distances.\n",
    "    score=np.abs(kmeans_model.score(data_f))\n",
    "    return score"
   ]
  },
  {
   "cell_type": "code",
   "execution_count": 53,
   "metadata": {},
   "outputs": [],
   "source": [
    "scores_list=[]\n",
    "centres_list=list(range(1,15,2))\n",
    "for center in centres_list:\n",
    "    scores_list.append(kmeans_clustering(below_lim_pca,center))"
   ]
  },
  {
   "cell_type": "code",
   "execution_count": 54,
   "metadata": {},
   "outputs": [
    {
     "data": {
      "image/png": "[encoded data removed]",
      "text/plain": [
       "<matplotlib.figure.Figure at 0x7fcc651e4ef0>"
      ]
     },
     "metadata": {
      "needs_background": "light"
     },
     "output_type": "display_data"
    }
   ],
   "source": [
    "# Investigate the change in within-cluster distance across number of clusters.\n",
    "# HINT: Use matplotlib's plot function to visualize this relationship.\n",
    "plt.plot(centres_list,scores_list)\n",
    "plt.xlabel('clusters')\n",
    "plt.ylabel('within-cluster distance')\n",
    "plt.title('Plot of within-cluster distance across number of clusters')\n",
    "plt.grid(True)\n",
    "plt.show()\n",
    "\n"
   ]
  },
  {
   "cell_type": "code",
   "execution_count": 55,
   "metadata": {},
   "outputs": [],
   "source": [
    "# Re-fit the k-means model with the selected number of clusters and obtain\n",
    "# cluster predictions for the general population demographics data.\n",
    "kmeans_model_1=KMeans(n_clusters=15,random_state=0).fit_transform(below_lim_pca)"
   ]
  },
  {
   "cell_type": "markdown",
   "metadata": {},
   "source": [
    "### Discussion 3.1: Apply Clustering to General Population\n",
    "\n",
    "(Double-click this cell and replace this text with your own text, reporting your findings and decisions regarding clustering. Into how many clusters have you decided to segment the population?)\n",
    "\n",
    "**Answer**\n",
    "\n",
    "**The population has been segmented into 15 clusters.**"
   ]
  },
  {
   "cell_type": "markdown",
   "metadata": {},
   "source": [
    "### Step 3.2: Apply All Steps to the Customer Data\n",
    "\n",
    "Now that you have clusters and cluster centers for the general population, it's time to see how the customer data maps on to those clusters. Take care to not confuse this for re-fitting all of the models to the customer data. Instead, you're going to use the fits from the general population to clean, transform, and cluster the customer data. In the last step of the project, you will interpret how the general population fits apply to the customer data.\n",
    "\n",
    "- Don't forget when loading in the customers data, that it is semicolon (`;`) delimited.\n",
    "- Apply the same feature wrangling, selection, and engineering steps to the customer demographics using the `clean_data()` function you created earlier. (You can assume that the customer demographics data has similar meaning behind missing data patterns as the general demographics data.)\n",
    "- Use the sklearn objects from the general demographics data, and apply their transformations to the customers data. That is, you should not be using a `.fit()` or `.fit_transform()` method to re-fit the old objects, nor should you be creating new sklearn objects! Carry the data through the feature scaling, PCA, and clustering steps, obtaining cluster assignments for all of the data in the customer demographics data."
   ]
  },
  {
   "cell_type": "code",
   "execution_count": 56,
   "metadata": {},
   "outputs": [
    {
     "name": "stdout",
     "output_type": "stream",
     "text": [
      "Total missing values after conversion to NaNs is: 3112918\n",
      "Number of columns remaining after removing the outliers: 79\n",
      "There are 191652 row and 59 columns after passing the dataframe to the cleaning function\n"
     ]
    }
   ],
   "source": [
    "# Load in the customer demographics data.\n",
    "customers= pd.read_csv('Udacity_CUSTOMERS_Subset.csv',sep=';')\n",
    "#load the feature info data\n",
    "feat_info=pd.read_csv('AZDIAS_Feature_Summary.csv',sep=';')\n",
    "#clean the data using the function (cleaning_data(data_f,data_f_info))\n",
    "customers_data_cleaned=cleaning_data(customers,feat_info)"
   ]
  },
  {
   "cell_type": "code",
   "execution_count": 57,
   "metadata": {},
   "outputs": [
    {
     "name": "stdout",
     "output_type": "stream",
     "text": [
      "overview of missing data in Customer data:\n",
      "ALTERSKATEGORIE_GROB       240\n",
      "CJT_GESAMTTYP             3213\n",
      "GFK_URLAUBERTYP           3213\n",
      "HEALTH_TYP               48990\n",
      "LP_LEBENSPHASE_FEIN      51053\n",
      "LP_LEBENSPHASE_GROB      50941\n",
      "LP_FAMILIE_FEIN          50582\n",
      "LP_FAMILIE_GROB          50582\n",
      "LP_STATUS_FEIN            3213\n",
      "LP_STATUS_GROB            3213\n",
      "NATIONALITAET_KZ         48750\n",
      "PRAEGENDE_JUGENDJAHRE    48487\n",
      "RETOURTYP_BK_S            3213\n",
      "SHOPPER_TYP              48990\n",
      "SOHO_KZ                  46596\n",
      "VERS_TYP                 48990\n",
      "ANZ_PERSONEN             46596\n",
      "ANZ_TITEL                46596\n",
      "HH_EINKOMMEN_SCORE        2968\n",
      "W_KEIT_KIND_HH           56937\n",
      "WOHNDAUER_2008           46596\n",
      "ANZ_HAUSHALTE_AKTIV      52377\n",
      "ANZ_HH_TITEL             52110\n",
      "GEBAEUDETYP              49927\n",
      "KONSUMNAEHE              46651\n",
      "MIN_GEBAEUDEJAHR         49927\n",
      "OST_WEST_KZ              49927\n",
      "WOHNLAGE                 49927\n",
      "CAMEO_DEUG_2015          50554\n",
      "CAMEO_DEU_2015           50554\n",
      "CAMEO_INTL_2015          50554\n",
      "KBA05_ANTG1              55980\n",
      "KBA05_ANTG2              55980\n",
      "KBA05_ANTG3              55980\n",
      "KBA05_ANTG4              55980\n",
      "KBA05_GBZ                55982\n",
      "BALLRAUM                 49959\n",
      "EWDICHTE                 49959\n",
      "INNENSTADT               49959\n",
      "GEBAEUDETYP_RASTER       49927\n",
      "KKK                      60064\n",
      "MOBI_REGIO               55980\n",
      "ONLINE_AFFINITAET         3213\n",
      "REGIOTYP                 60064\n",
      "KBA13_ANZAHL_PKW         51281\n",
      "PLZ8_ANTG1               52764\n",
      "PLZ8_ANTG2               52764\n",
      "PLZ8_ANTG3               52764\n",
      "PLZ8_ANTG4               52764\n",
      "PLZ8_BAUMAX              52764\n",
      "PLZ8_HHZ                 52764\n",
      "PLZ8_GBZ                 52764\n",
      "ARBEIT                   50499\n",
      "ORTSGR_KLS9              50476\n",
      "RELAT_AB                 50499\n",
      "dtype: int64\n"
     ]
    }
   ],
   "source": [
    "print('overview of missing data in Customer data:\\n{}'.format(customers.isnull().sum()[customers.isnull().sum()>0]))"
   ]
  },
  {
   "cell_type": "code",
   "execution_count": 58,
   "metadata": {},
   "outputs": [
    {
     "name": "stdout",
     "output_type": "stream",
     "text": [
      "Overview of missing data in customer data:\n",
      "Series([], dtype: int64)\n"
     ]
    }
   ],
   "source": [
    "for clm in customers.columns:\n",
    "    customers[clm]=customers.interpolate(limit_direction='both')\n",
    "    \n",
    "#check\n",
    "print('Overview of missing data in customer data:\\n{}'.format(customers.isnull().sum()[customers.isnull().sum()>0]))"
   ]
  },
  {
   "cell_type": "code",
   "execution_count": 59,
   "metadata": {},
   "outputs": [],
   "source": [
    "#feature scaling\n",
    "customers_scaled=StandardScaler().fit_transform(customers)"
   ]
  },
  {
   "cell_type": "code",
   "execution_count": 60,
   "metadata": {},
   "outputs": [],
   "source": [
    "customers_scaled=pd.DataFrame(customers_scaled,index=customers,columns=customers.columns)"
   ]
  },
  {
   "cell_type": "code",
   "execution_count": 61,
   "metadata": {},
   "outputs": [],
   "source": [
    "#apply PCA\n",
    "pca=PCA(n_components=30,random_state=700)\n",
    "customers_pca=pca.fit_transform(customers_scaled)"
   ]
  },
  {
   "cell_type": "code",
   "execution_count": 62,
   "metadata": {},
   "outputs": [],
   "source": [
    "#apply KMeans clustering\n",
    "kmeans_model_customers=KMeans(n_clusters=15,random_state=0).fit_predict(customers_pca)"
   ]
  },
  {
   "cell_type": "markdown",
   "metadata": {},
   "source": [
    "### Step 3.3: Compare Customer Data to Demographics Data\n",
    "\n",
    "At this point, you have clustered data based on demographics of the general population of Germany, and seen how the customer data for a mail-order sales company maps onto those demographic clusters. In this final substep, you will compare the two cluster distributions to see where the strongest customer base for the company is.\n",
    "\n",
    "Consider the proportion of persons in each cluster for the general population, and the proportions for the customers. If we think the company's customer base to be universal, then the cluster assignment proportions should be fairly similar between the two. If there are only particular segments of the population that are interested in the company's products, then we should see a mismatch from one to the other. If there is a higher proportion of persons in a cluster for the customer data compared to the general population (e.g. 5% of persons are assigned to a cluster for the general population, but 15% of the customer data is closest to that cluster's centroid) then that suggests the people in that cluster to be a target audience for the company. On the other hand, the proportion of the data in a cluster being larger in the general population than the customer data (e.g. only 2% of customers closest to a population centroid that captures 6% of the data) suggests that group of persons to be outside of the target demographics.\n",
    "\n",
    "Take a look at the following points in this step:\n",
    "\n",
    "- Compute the proportion of data points in each cluster for the general population and the customer data. Visualizations will be useful here: both for the individual dataset proportions, but also to visualize the ratios in cluster representation between groups. Seaborn's [`countplot()`](https://seaborn.pydata.org/generated/seaborn.countplot.html) or [`barplot()`](https://seaborn.pydata.org/generated/seaborn.barplot.html) function could be handy.\n",
    "  - Recall the analysis you performed in step 1.1.3 of the project, where you separated out certain data points from the dataset if they had more than a specified threshold of missing values. If you found that this group was qualitatively different from the main bulk of the data, you should treat this as an additional data cluster in this analysis. Make sure that you account for the number of data points in this subset, for both the general population and customer datasets, when making your computations!\n",
    "- Which cluster or clusters are overrepresented in the customer dataset compared to the general population? Select at least one such cluster and infer what kind of people might be represented by that cluster. Use the principal component interpretations from step 2.3 or look at additional components to help you make this inference. Alternatively, you can use the `.inverse_transform()` method of the PCA and StandardScaler objects to transform centroids back to the original data space and interpret the retrieved values directly.\n",
    "- Perform a similar investigation for the underrepresented clusters. Which cluster or clusters are underrepresented in the customer dataset compared to the general population, and what kinds of people are typified by these clusters?"
   ]
  },
  {
   "cell_type": "code",
   "execution_count": 64,
   "metadata": {},
   "outputs": [
    {
     "data": {
      "image/png": "[encoded data removed]",
      "text/plain": [
       "<matplotlib.figure.Figure at 0x7fcc651f7860>"
      ]
     },
     "metadata": {
      "needs_background": "light"
     },
     "output_type": "display_data"
    }
   ],
   "source": [
    "# Compare the proportion of data in each cluster for the customer data to the\n",
    "# proportion of data in each cluster for the general population.\n",
    "\n",
    "general_data=[]\n",
    "customer_data=[]\n",
    "x=[i+1 for i in range(15)]\n",
    "#for the 15 clusters\n",
    "for i in range(15):\n",
    "    general_data.append((kmeans_model_1==i).sum()/len(kmeans_model_1))\n",
    "    customer_data.append((kmeans_model_customers==i).sum()/len(kmeans_model_customers))\n",
    "    \n",
    "data_prop_vis=pd.DataFrame({'cluster':x,'general_data':general_data,'customer_data':customer_data})\n",
    "\n",
    "#plot\n",
    "data_prop_vis.plot(y=['general_data','customer_data'],kind='bar',figsize=(15,10))\n",
    "\n",
    "plt.xlabel('Clusters')\n",
    "plt.ylabel('proportions')\n",
    "plt.legend(loc='best')\n",
    "plt.grid(True)\n",
    "plt.show()"
   ]
  },
  {
   "cell_type": "code",
   "execution_count": null,
   "metadata": {},
   "outputs": [],
   "source": [
    "# What kinds of people are part of a cluster that is overrepresented in the\n",
    "# customer data compared to the general population?\n",
    "\n"
   ]
  },
  {
   "cell_type": "code",
   "execution_count": null,
   "metadata": {},
   "outputs": [],
   "source": [
    "# What kinds of people are part of a cluster that is underrepresented in the\n",
    "# customer data compared to the general population?\n",
    "\n"
   ]
  },
  {
   "cell_type": "markdown",
   "metadata": {},
   "source": [
    "### Discussion 3.3: Compare Customer Data to Demographics Data\n",
    "\n",
    "(Double-click this cell and replace this text with your own text, reporting findings and conclusions from the clustering analysis. Can we describe segments of the population that are relatively popular with the mail-order company, or relatively unpopular with the company?)"
   ]
  },
  {
   "cell_type": "markdown",
   "metadata": {},
   "source": [
    "> Congratulations on making it this far in the project! Before you finish, make sure to check through the entire notebook from top to bottom to make sure that your analysis follows a logical flow and all of your findings are documented in **Discussion** cells. Once you've checked over all of your work, you should export the notebook as an HTML document to submit for evaluation. You can do this from the menu, navigating to **File -> Download as -> HTML (.html)**. You will submit both that document and this notebook for your project submission."
   ]
  },
  {
   "cell_type": "code",
   "execution_count": null,
   "metadata": {},
   "outputs": [],
   "source": []
  }
 ],
 "metadata": {
  "kernelspec": {
   "display_name": "Python 3",
   "language": "python",
   "name": "python3"
  },
  "language_info": {
   "codemirror_mode": {
    "name": "ipython",
    "version": 3
   },
   "file_extension": ".py",
   "mimetype": "text/x-python",
   "name": "python",
   "nbconvert_exporter": "python",
   "pygments_lexer": "ipython3",
   "version": "3.6.3"
  }
 },
 "nbformat": 4,
 "nbformat_minor": 2
}
